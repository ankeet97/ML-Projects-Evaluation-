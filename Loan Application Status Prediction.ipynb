{
 "cells": [
  {
   "cell_type": "markdown",
   "id": "39e23fcf",
   "metadata": {},
   "source": [
    "# Loan Application Status Prediction"
   ]
  },
  {
   "cell_type": "markdown",
   "id": "84fd419b",
   "metadata": {},
   "source": [
    "### Problem Statement:\n",
    "This dataset includes details of applicants who have applied for loan. The dataset includes details like credit history, loan amount, their income, dependents etc. \n",
    "\n",
    "### Independent Variables:\n",
    "\n",
    "- Loan_ID\n",
    "\n",
    "- Gender\n",
    "\n",
    "- Married\n",
    "\n",
    "- Dependents\n",
    "\n",
    "- Education\n",
    "\n",
    "- Self_Employed\n",
    "\n",
    "- ApplicantIncome\n",
    "\n",
    "- CoapplicantIncome\n",
    "\n",
    "- Loan_Amount\n",
    "\n",
    "- Loan_Amount_Term\n",
    "\n",
    "- Credit History\n",
    "\n",
    "- Property_Area\n",
    "\n",
    "### Dependent Variable (Target Variable):\n",
    "\n",
    "- Loan_Status\n",
    "\n",
    "You have to build a model that can predict whether the loan of the applicant will be approved or not on the basis of the details provided in the dataset. "
   ]
  },
  {
   "cell_type": "code",
   "execution_count": 1,
   "id": "fbbebc0b",
   "metadata": {},
   "outputs": [],
   "source": [
    "# Importing important Libraries\n",
    "import pandas as pd\n",
    "import numpy as np \n",
    "import seaborn as sns\n",
    "import matplotlib.pyplot as plt\n",
    "import warnings\n",
    "warnings.filterwarnings('ignore')"
   ]
  },
  {
   "cell_type": "code",
   "execution_count": 3,
   "id": "fe5c7aea",
   "metadata": {},
   "outputs": [
    {
     "data": {
      "text/html": [
       "<div>\n",
       "<style scoped>\n",
       "    .dataframe tbody tr th:only-of-type {\n",
       "        vertical-align: middle;\n",
       "    }\n",
       "\n",
       "    .dataframe tbody tr th {\n",
       "        vertical-align: top;\n",
       "    }\n",
       "\n",
       "    .dataframe thead th {\n",
       "        text-align: right;\n",
       "    }\n",
       "</style>\n",
       "<table border=\"1\" class=\"dataframe\">\n",
       "  <thead>\n",
       "    <tr style=\"text-align: right;\">\n",
       "      <th></th>\n",
       "      <th>Loan_ID</th>\n",
       "      <th>Gender</th>\n",
       "      <th>Married</th>\n",
       "      <th>Dependents</th>\n",
       "      <th>Education</th>\n",
       "      <th>Self_Employed</th>\n",
       "      <th>ApplicantIncome</th>\n",
       "      <th>CoapplicantIncome</th>\n",
       "      <th>LoanAmount</th>\n",
       "      <th>Loan_Amount_Term</th>\n",
       "      <th>Credit_History</th>\n",
       "      <th>Property_Area</th>\n",
       "      <th>Loan_Status</th>\n",
       "    </tr>\n",
       "  </thead>\n",
       "  <tbody>\n",
       "    <tr>\n",
       "      <th>0</th>\n",
       "      <td>LP001002</td>\n",
       "      <td>Male</td>\n",
       "      <td>No</td>\n",
       "      <td>0</td>\n",
       "      <td>Graduate</td>\n",
       "      <td>No</td>\n",
       "      <td>5849</td>\n",
       "      <td>0.0</td>\n",
       "      <td>NaN</td>\n",
       "      <td>360.0</td>\n",
       "      <td>1.0</td>\n",
       "      <td>Urban</td>\n",
       "      <td>Y</td>\n",
       "    </tr>\n",
       "    <tr>\n",
       "      <th>1</th>\n",
       "      <td>LP001003</td>\n",
       "      <td>Male</td>\n",
       "      <td>Yes</td>\n",
       "      <td>1</td>\n",
       "      <td>Graduate</td>\n",
       "      <td>No</td>\n",
       "      <td>4583</td>\n",
       "      <td>1508.0</td>\n",
       "      <td>128.0</td>\n",
       "      <td>360.0</td>\n",
       "      <td>1.0</td>\n",
       "      <td>Rural</td>\n",
       "      <td>N</td>\n",
       "    </tr>\n",
       "    <tr>\n",
       "      <th>2</th>\n",
       "      <td>LP001005</td>\n",
       "      <td>Male</td>\n",
       "      <td>Yes</td>\n",
       "      <td>0</td>\n",
       "      <td>Graduate</td>\n",
       "      <td>Yes</td>\n",
       "      <td>3000</td>\n",
       "      <td>0.0</td>\n",
       "      <td>66.0</td>\n",
       "      <td>360.0</td>\n",
       "      <td>1.0</td>\n",
       "      <td>Urban</td>\n",
       "      <td>Y</td>\n",
       "    </tr>\n",
       "    <tr>\n",
       "      <th>3</th>\n",
       "      <td>LP001006</td>\n",
       "      <td>Male</td>\n",
       "      <td>Yes</td>\n",
       "      <td>0</td>\n",
       "      <td>Not Graduate</td>\n",
       "      <td>No</td>\n",
       "      <td>2583</td>\n",
       "      <td>2358.0</td>\n",
       "      <td>120.0</td>\n",
       "      <td>360.0</td>\n",
       "      <td>1.0</td>\n",
       "      <td>Urban</td>\n",
       "      <td>Y</td>\n",
       "    </tr>\n",
       "    <tr>\n",
       "      <th>4</th>\n",
       "      <td>LP001008</td>\n",
       "      <td>Male</td>\n",
       "      <td>No</td>\n",
       "      <td>0</td>\n",
       "      <td>Graduate</td>\n",
       "      <td>No</td>\n",
       "      <td>6000</td>\n",
       "      <td>0.0</td>\n",
       "      <td>141.0</td>\n",
       "      <td>360.0</td>\n",
       "      <td>1.0</td>\n",
       "      <td>Urban</td>\n",
       "      <td>Y</td>\n",
       "    </tr>\n",
       "    <tr>\n",
       "      <th>5</th>\n",
       "      <td>LP001011</td>\n",
       "      <td>Male</td>\n",
       "      <td>Yes</td>\n",
       "      <td>2</td>\n",
       "      <td>Graduate</td>\n",
       "      <td>Yes</td>\n",
       "      <td>5417</td>\n",
       "      <td>4196.0</td>\n",
       "      <td>267.0</td>\n",
       "      <td>360.0</td>\n",
       "      <td>1.0</td>\n",
       "      <td>Urban</td>\n",
       "      <td>Y</td>\n",
       "    </tr>\n",
       "    <tr>\n",
       "      <th>6</th>\n",
       "      <td>LP001013</td>\n",
       "      <td>Male</td>\n",
       "      <td>Yes</td>\n",
       "      <td>0</td>\n",
       "      <td>Not Graduate</td>\n",
       "      <td>No</td>\n",
       "      <td>2333</td>\n",
       "      <td>1516.0</td>\n",
       "      <td>95.0</td>\n",
       "      <td>360.0</td>\n",
       "      <td>1.0</td>\n",
       "      <td>Urban</td>\n",
       "      <td>Y</td>\n",
       "    </tr>\n",
       "    <tr>\n",
       "      <th>7</th>\n",
       "      <td>LP001014</td>\n",
       "      <td>Male</td>\n",
       "      <td>Yes</td>\n",
       "      <td>3+</td>\n",
       "      <td>Graduate</td>\n",
       "      <td>No</td>\n",
       "      <td>3036</td>\n",
       "      <td>2504.0</td>\n",
       "      <td>158.0</td>\n",
       "      <td>360.0</td>\n",
       "      <td>0.0</td>\n",
       "      <td>Semiurban</td>\n",
       "      <td>N</td>\n",
       "    </tr>\n",
       "    <tr>\n",
       "      <th>8</th>\n",
       "      <td>LP001018</td>\n",
       "      <td>Male</td>\n",
       "      <td>Yes</td>\n",
       "      <td>2</td>\n",
       "      <td>Graduate</td>\n",
       "      <td>No</td>\n",
       "      <td>4006</td>\n",
       "      <td>1526.0</td>\n",
       "      <td>168.0</td>\n",
       "      <td>360.0</td>\n",
       "      <td>1.0</td>\n",
       "      <td>Urban</td>\n",
       "      <td>Y</td>\n",
       "    </tr>\n",
       "    <tr>\n",
       "      <th>9</th>\n",
       "      <td>LP001020</td>\n",
       "      <td>Male</td>\n",
       "      <td>Yes</td>\n",
       "      <td>1</td>\n",
       "      <td>Graduate</td>\n",
       "      <td>No</td>\n",
       "      <td>12841</td>\n",
       "      <td>10968.0</td>\n",
       "      <td>349.0</td>\n",
       "      <td>360.0</td>\n",
       "      <td>1.0</td>\n",
       "      <td>Semiurban</td>\n",
       "      <td>N</td>\n",
       "    </tr>\n",
       "  </tbody>\n",
       "</table>\n",
       "</div>"
      ],
      "text/plain": [
       "    Loan_ID Gender Married Dependents     Education Self_Employed  \\\n",
       "0  LP001002   Male      No          0      Graduate            No   \n",
       "1  LP001003   Male     Yes          1      Graduate            No   \n",
       "2  LP001005   Male     Yes          0      Graduate           Yes   \n",
       "3  LP001006   Male     Yes          0  Not Graduate            No   \n",
       "4  LP001008   Male      No          0      Graduate            No   \n",
       "5  LP001011   Male     Yes          2      Graduate           Yes   \n",
       "6  LP001013   Male     Yes          0  Not Graduate            No   \n",
       "7  LP001014   Male     Yes         3+      Graduate            No   \n",
       "8  LP001018   Male     Yes          2      Graduate            No   \n",
       "9  LP001020   Male     Yes          1      Graduate            No   \n",
       "\n",
       "   ApplicantIncome  CoapplicantIncome  LoanAmount  Loan_Amount_Term  \\\n",
       "0             5849                0.0         NaN             360.0   \n",
       "1             4583             1508.0       128.0             360.0   \n",
       "2             3000                0.0        66.0             360.0   \n",
       "3             2583             2358.0       120.0             360.0   \n",
       "4             6000                0.0       141.0             360.0   \n",
       "5             5417             4196.0       267.0             360.0   \n",
       "6             2333             1516.0        95.0             360.0   \n",
       "7             3036             2504.0       158.0             360.0   \n",
       "8             4006             1526.0       168.0             360.0   \n",
       "9            12841            10968.0       349.0             360.0   \n",
       "\n",
       "   Credit_History Property_Area Loan_Status  \n",
       "0             1.0         Urban           Y  \n",
       "1             1.0         Rural           N  \n",
       "2             1.0         Urban           Y  \n",
       "3             1.0         Urban           Y  \n",
       "4             1.0         Urban           Y  \n",
       "5             1.0         Urban           Y  \n",
       "6             1.0         Urban           Y  \n",
       "7             0.0     Semiurban           N  \n",
       "8             1.0         Urban           Y  \n",
       "9             1.0     Semiurban           N  "
      ]
     },
     "execution_count": 3,
     "metadata": {},
     "output_type": "execute_result"
    }
   ],
   "source": [
    "# Loading the Dataset\n",
    "df=pd.read_csv(r\"loan_prediction.csv\")\n",
    "df.head(10)"
   ]
  },
  {
   "cell_type": "code",
   "execution_count": 4,
   "id": "79c8ccd6",
   "metadata": {},
   "outputs": [
    {
     "data": {
      "text/plain": [
       "(614, 13)"
      ]
     },
     "execution_count": 4,
     "metadata": {},
     "output_type": "execute_result"
    }
   ],
   "source": [
    "df.shape"
   ]
  },
  {
   "cell_type": "code",
   "execution_count": 5,
   "id": "a3424b0e",
   "metadata": {},
   "outputs": [
    {
     "data": {
      "text/plain": [
       "Index(['Loan_ID', 'Gender', 'Married', 'Dependents', 'Education',\n",
       "       'Self_Employed', 'ApplicantIncome', 'CoapplicantIncome', 'LoanAmount',\n",
       "       'Loan_Amount_Term', 'Credit_History', 'Property_Area', 'Loan_Status'],\n",
       "      dtype='object')"
      ]
     },
     "execution_count": 5,
     "metadata": {},
     "output_type": "execute_result"
    }
   ],
   "source": [
    "df.columns"
   ]
  },
  {
   "cell_type": "markdown",
   "id": "bc4a1672",
   "metadata": {},
   "source": [
    "## Checking for null values"
   ]
  },
  {
   "cell_type": "code",
   "execution_count": 6,
   "id": "c3f06e76",
   "metadata": {},
   "outputs": [
    {
     "data": {
      "text/plain": [
       "Loan_ID               0\n",
       "Gender               13\n",
       "Married               3\n",
       "Dependents           15\n",
       "Education             0\n",
       "Self_Employed        32\n",
       "ApplicantIncome       0\n",
       "CoapplicantIncome     0\n",
       "LoanAmount           22\n",
       "Loan_Amount_Term     14\n",
       "Credit_History       50\n",
       "Property_Area         0\n",
       "Loan_Status           0\n",
       "dtype: int64"
      ]
     },
     "execution_count": 6,
     "metadata": {},
     "output_type": "execute_result"
    }
   ],
   "source": [
    "df.isnull().sum()"
   ]
  },
  {
   "cell_type": "code",
   "execution_count": 7,
   "id": "6a65c6c7",
   "metadata": {},
   "outputs": [
    {
     "data": {
      "image/png": "[encoded data removed]",
      "text/plain": [
       "<Figure size 432x288 with 2 Axes>"
      ]
     },
     "metadata": {
      "needs_background": "light"
     },
     "output_type": "display_data"
    }
   ],
   "source": [
    "sns.heatmap(df.isnull())\n",
    "plt.title('NULL VALUES')\n",
    "plt.show()"
   ]
  },
  {
   "cell_type": "markdown",
   "id": "cfc1419d",
   "metadata": {},
   "source": [
    "We can see null values present in Gender, Married, Dependents, Self_Employed,LoanAmount, Loan_Amount_Term & Credit_History."
   ]
  },
  {
   "cell_type": "markdown",
   "id": "754bb8e7",
   "metadata": {},
   "source": [
    "## Checking for the Datatypes"
   ]
  },
  {
   "cell_type": "code",
   "execution_count": 8,
   "id": "f5ca8b99",
   "metadata": {},
   "outputs": [
    {
     "name": "stdout",
     "output_type": "stream",
     "text": [
      "<class 'pandas.core.frame.DataFrame'>\n",
      "RangeIndex: 614 entries, 0 to 613\n",
      "Data columns (total 13 columns):\n",
      " #   Column             Non-Null Count  Dtype  \n",
      "---  ------             --------------  -----  \n",
      " 0   Loan_ID            614 non-null    object \n",
      " 1   Gender             601 non-null    object \n",
      " 2   Married            611 non-null    object \n",
      " 3   Dependents         599 non-null    object \n",
      " 4   Education          614 non-null    object \n",
      " 5   Self_Employed      582 non-null    object \n",
      " 6   ApplicantIncome    614 non-null    int64  \n",
      " 7   CoapplicantIncome  614 non-null    float64\n",
      " 8   LoanAmount         592 non-null    float64\n",
      " 9   Loan_Amount_Term   600 non-null    float64\n",
      " 10  Credit_History     564 non-null    float64\n",
      " 11  Property_Area      614 non-null    object \n",
      " 12  Loan_Status        614 non-null    object \n",
      "dtypes: float64(4), int64(1), object(8)\n",
      "memory usage: 62.5+ KB\n"
     ]
    }
   ],
   "source": [
    "df.info()"
   ]
  },
  {
   "cell_type": "markdown",
   "id": "205b9244",
   "metadata": {},
   "source": [
    "We can see that most of the datatypes are object datatypes and a few integer & float datatypes."
   ]
  },
  {
   "cell_type": "markdown",
   "id": "fbeed3cc",
   "metadata": {},
   "source": [
    "### Treating the Null values\n",
    "Since Gender, Married, Dependents, Self_Employed,Loan_Amount_Term & Credit_History are categorical columns,we shall replace the null values in these columns with the modeof the respective columns."
   ]
  },
  {
   "cell_type": "code",
   "execution_count": 9,
   "id": "c31ec63c",
   "metadata": {},
   "outputs": [
    {
     "name": "stdout",
     "output_type": "stream",
     "text": [
      "The mode of Gender is: 0    Male\n",
      "Name: Gender, dtype: object\n",
      "The mode of Married is: 0    Yes\n",
      "Name: Married, dtype: object\n",
      "The mode of Dependents is: 0    0\n",
      "Name: Dependents, dtype: object\n",
      "The mode of  Self_Employed  is: 0    No\n",
      "Name: Self_Employed, dtype: object\n",
      "The mode of Loan_Amount_Term is: 0    360.0\n",
      "Name: Loan_Amount_Term, dtype: float64\n",
      "The mode of Credit_History  is: 0    1.0\n",
      "Name: Credit_History, dtype: float64\n"
     ]
    }
   ],
   "source": [
    "# Modes of categorical columns\n",
    "print(\"The mode of Gender is:\",df[\"Gender\"].mode())\n",
    "print(\"The mode of Married is:\",df[\"Married\"].mode())\n",
    "print(\"The mode of Dependents is:\",df[\"Dependents\"].mode())\n",
    "print(\"The mode of  Self_Employed  is:\",df[\"Self_Employed\"].mode())\n",
    "print(\"The mode of Loan_Amount_Term is:\",df[\"Loan_Amount_Term\"].mode())\n",
    "print(\"The mode of Credit_History  is:\",df[\"Credit_History\"].mode())"
   ]
  },
  {
   "cell_type": "code",
   "execution_count": 10,
   "id": "5367306b",
   "metadata": {},
   "outputs": [],
   "source": [
    "# Replacing null values in categorical columns\n",
    "df[\"Gender\"] = df[\"Gender\"].fillna(df[\"Gender\"].mode()[0])\n",
    "df[\"Married\"] = df[\"Married\"].fillna(df[\"Married\"].mode()[0])\n",
    "df[\"Dependents\"] = df[\"Dependents\"].fillna(df[\"Dependents\"].mode()[0])\n",
    "df[\"Self_Employed\"] = df[\"Self_Employed\"].fillna(df[\"Self_Employed\"].mode()[0])\n",
    "df[\"Married\"] = df[\"Married\"].fillna(df[\"Married\"].mode()[0])\n",
    "df[\"Credit_History\"] = df[\"Credit_History\"].fillna(df[\"Credit_History\"].mode()[0])\n",
    "df[\"Loan_Amount_Term\"] = df[\"Loan_Amount_Term\"].fillna(df[\"Loan_Amount_Term\"].mode()[0])"
   ]
  },
  {
   "cell_type": "markdown",
   "id": "fb4ec3f4",
   "metadata": {},
   "source": [
    "Since LoanAmount column is a numerical column we shall replace the null values with median of this column."
   ]
  },
  {
   "cell_type": "code",
   "execution_count": 12,
   "id": "e2e8c9ac",
   "metadata": {},
   "outputs": [
    {
     "name": "stdout",
     "output_type": "stream",
     "text": [
      "The median of LoanAmount is: 128.0\n"
     ]
    }
   ],
   "source": [
    "# Median of numerical column\n",
    "print(\"The median of LoanAmount is:\",df[\"LoanAmount\"].median())"
   ]
  },
  {
   "cell_type": "code",
   "execution_count": 13,
   "id": "2a8cb4c3",
   "metadata": {},
   "outputs": [],
   "source": [
    "# Filling null values in LoanAmount by its median value\n",
    "df[\"LoanAmount\"] = df[\"LoanAmount\"].fillna(df[\"LoanAmount\"].median())"
   ]
  },
  {
   "cell_type": "markdown",
   "id": "afc961a9",
   "metadata": {},
   "source": [
    "## Checking null values"
   ]
  },
  {
   "cell_type": "code",
   "execution_count": 14,
   "id": "a24adde4",
   "metadata": {},
   "outputs": [
    {
     "data": {
      "text/plain": [
       "Loan_ID              0\n",
       "Gender               0\n",
       "Married              0\n",
       "Dependents           0\n",
       "Education            0\n",
       "Self_Employed        0\n",
       "ApplicantIncome      0\n",
       "CoapplicantIncome    0\n",
       "LoanAmount           0\n",
       "Loan_Amount_Term     0\n",
       "Credit_History       0\n",
       "Property_Area        0\n",
       "Loan_Status          0\n",
       "dtype: int64"
      ]
     },
     "execution_count": 14,
     "metadata": {},
     "output_type": "execute_result"
    }
   ],
   "source": [
    "df.isnull().sum()"
   ]
  },
  {
   "cell_type": "code",
   "execution_count": 15,
   "id": "31f2c285",
   "metadata": {},
   "outputs": [
    {
     "data": {
      "image/png": "[encoded data removed]",
      "text/plain": [
       "<Figure size 432x288 with 2 Axes>"
      ]
     },
     "metadata": {
      "needs_background": "light"
     },
     "output_type": "display_data"
    }
   ],
   "source": [
    "sns.heatmap(df.isnull())\n",
    "plt.title('NULL VALUES')\n",
    "plt.show()"
   ]
  },
  {
   "cell_type": "markdown",
   "id": "32e6b457",
   "metadata": {},
   "source": [
    "so now there are no null value"
   ]
  },
  {
   "cell_type": "code",
   "execution_count": 16,
   "id": "7eed10e3",
   "metadata": {},
   "outputs": [
    {
     "data": {
      "text/html": [
       "<div>\n",
       "<style scoped>\n",
       "    .dataframe tbody tr th:only-of-type {\n",
       "        vertical-align: middle;\n",
       "    }\n",
       "\n",
       "    .dataframe tbody tr th {\n",
       "        vertical-align: top;\n",
       "    }\n",
       "\n",
       "    .dataframe thead th {\n",
       "        text-align: right;\n",
       "    }\n",
       "</style>\n",
       "<table border=\"1\" class=\"dataframe\">\n",
       "  <thead>\n",
       "    <tr style=\"text-align: right;\">\n",
       "      <th></th>\n",
       "      <th>ApplicantIncome</th>\n",
       "      <th>CoapplicantIncome</th>\n",
       "      <th>LoanAmount</th>\n",
       "      <th>Loan_Amount_Term</th>\n",
       "      <th>Credit_History</th>\n",
       "    </tr>\n",
       "  </thead>\n",
       "  <tbody>\n",
       "    <tr>\n",
       "      <th>count</th>\n",
       "      <td>614.000000</td>\n",
       "      <td>614.000000</td>\n",
       "      <td>614.000000</td>\n",
       "      <td>614.000000</td>\n",
       "      <td>614.000000</td>\n",
       "    </tr>\n",
       "    <tr>\n",
       "      <th>mean</th>\n",
       "      <td>5403.459283</td>\n",
       "      <td>1621.245798</td>\n",
       "      <td>145.752443</td>\n",
       "      <td>342.410423</td>\n",
       "      <td>0.855049</td>\n",
       "    </tr>\n",
       "    <tr>\n",
       "      <th>std</th>\n",
       "      <td>6109.041673</td>\n",
       "      <td>2926.248369</td>\n",
       "      <td>84.107233</td>\n",
       "      <td>64.428629</td>\n",
       "      <td>0.352339</td>\n",
       "    </tr>\n",
       "    <tr>\n",
       "      <th>min</th>\n",
       "      <td>150.000000</td>\n",
       "      <td>0.000000</td>\n",
       "      <td>9.000000</td>\n",
       "      <td>12.000000</td>\n",
       "      <td>0.000000</td>\n",
       "    </tr>\n",
       "    <tr>\n",
       "      <th>25%</th>\n",
       "      <td>2877.500000</td>\n",
       "      <td>0.000000</td>\n",
       "      <td>100.250000</td>\n",
       "      <td>360.000000</td>\n",
       "      <td>1.000000</td>\n",
       "    </tr>\n",
       "    <tr>\n",
       "      <th>50%</th>\n",
       "      <td>3812.500000</td>\n",
       "      <td>1188.500000</td>\n",
       "      <td>128.000000</td>\n",
       "      <td>360.000000</td>\n",
       "      <td>1.000000</td>\n",
       "    </tr>\n",
       "    <tr>\n",
       "      <th>75%</th>\n",
       "      <td>5795.000000</td>\n",
       "      <td>2297.250000</td>\n",
       "      <td>164.750000</td>\n",
       "      <td>360.000000</td>\n",
       "      <td>1.000000</td>\n",
       "    </tr>\n",
       "    <tr>\n",
       "      <th>max</th>\n",
       "      <td>81000.000000</td>\n",
       "      <td>41667.000000</td>\n",
       "      <td>700.000000</td>\n",
       "      <td>480.000000</td>\n",
       "      <td>1.000000</td>\n",
       "    </tr>\n",
       "  </tbody>\n",
       "</table>\n",
       "</div>"
      ],
      "text/plain": [
       "       ApplicantIncome  CoapplicantIncome  LoanAmount  Loan_Amount_Term  \\\n",
       "count       614.000000         614.000000  614.000000        614.000000   \n",
       "mean       5403.459283        1621.245798  145.752443        342.410423   \n",
       "std        6109.041673        2926.248369   84.107233         64.428629   \n",
       "min         150.000000           0.000000    9.000000         12.000000   \n",
       "25%        2877.500000           0.000000  100.250000        360.000000   \n",
       "50%        3812.500000        1188.500000  128.000000        360.000000   \n",
       "75%        5795.000000        2297.250000  164.750000        360.000000   \n",
       "max       81000.000000       41667.000000  700.000000        480.000000   \n",
       "\n",
       "       Credit_History  \n",
       "count      614.000000  \n",
       "mean         0.855049  \n",
       "std          0.352339  \n",
       "min          0.000000  \n",
       "25%          1.000000  \n",
       "50%          1.000000  \n",
       "75%          1.000000  \n",
       "max          1.000000  "
      ]
     },
     "execution_count": 16,
     "metadata": {},
     "output_type": "execute_result"
    }
   ],
   "source": [
    "df.describe()"
   ]
  },
  {
   "cell_type": "code",
   "execution_count": 17,
   "id": "1255ca6c",
   "metadata": {},
   "outputs": [
    {
     "data": {
      "text/html": [
       "<div>\n",
       "<style scoped>\n",
       "    .dataframe tbody tr th:only-of-type {\n",
       "        vertical-align: middle;\n",
       "    }\n",
       "\n",
       "    .dataframe tbody tr th {\n",
       "        vertical-align: top;\n",
       "    }\n",
       "\n",
       "    .dataframe thead th {\n",
       "        text-align: right;\n",
       "    }\n",
       "</style>\n",
       "<table border=\"1\" class=\"dataframe\">\n",
       "  <thead>\n",
       "    <tr style=\"text-align: right;\">\n",
       "      <th></th>\n",
       "      <th>ApplicantIncome</th>\n",
       "      <th>CoapplicantIncome</th>\n",
       "      <th>LoanAmount</th>\n",
       "      <th>Loan_Amount_Term</th>\n",
       "      <th>Credit_History</th>\n",
       "    </tr>\n",
       "    <tr>\n",
       "      <th>Loan_Status</th>\n",
       "      <th></th>\n",
       "      <th></th>\n",
       "      <th></th>\n",
       "      <th></th>\n",
       "      <th></th>\n",
       "    </tr>\n",
       "  </thead>\n",
       "  <tbody>\n",
       "    <tr>\n",
       "      <th>N</th>\n",
       "      <td>5446.078125</td>\n",
       "      <td>1877.807292</td>\n",
       "      <td>149.890625</td>\n",
       "      <td>344.56250</td>\n",
       "      <td>0.572917</td>\n",
       "    </tr>\n",
       "    <tr>\n",
       "      <th>Y</th>\n",
       "      <td>5384.068720</td>\n",
       "      <td>1504.516398</td>\n",
       "      <td>143.869668</td>\n",
       "      <td>341.43128</td>\n",
       "      <td>0.983412</td>\n",
       "    </tr>\n",
       "  </tbody>\n",
       "</table>\n",
       "</div>"
      ],
      "text/plain": [
       "             ApplicantIncome  CoapplicantIncome  LoanAmount  Loan_Amount_Term  \\\n",
       "Loan_Status                                                                     \n",
       "N                5446.078125        1877.807292  149.890625         344.56250   \n",
       "Y                5384.068720        1504.516398  143.869668         341.43128   \n",
       "\n",
       "             Credit_History  \n",
       "Loan_Status                  \n",
       "N                  0.572917  \n",
       "Y                  0.983412  "
      ]
     },
     "execution_count": 17,
     "metadata": {},
     "output_type": "execute_result"
    }
   ],
   "source": [
    "# Mean of our target variable 'attrition'\n",
    "df.groupby('Loan_Status').mean()"
   ]
  },
  {
   "cell_type": "code",
   "execution_count": 19,
   "id": "6368fd03",
   "metadata": {},
   "outputs": [
    {
     "name": "stdout",
     "output_type": "stream",
     "text": [
      "LP001002    1\n",
      "LP002328    1\n",
      "LP002305    1\n",
      "LP002308    1\n",
      "LP002314    1\n",
      "           ..\n",
      "LP001692    1\n",
      "LP001693    1\n",
      "LP001698    1\n",
      "LP001699    1\n",
      "LP002990    1\n",
      "Name: Loan_ID, Length: 614, dtype: int64\n",
      "-----------------------------------------------------\n",
      "Male      502\n",
      "Female    112\n",
      "Name: Gender, dtype: int64\n",
      "-----------------------------------------------------\n",
      "Yes    401\n",
      "No     213\n",
      "Name: Married, dtype: int64\n",
      "-----------------------------------------------------\n",
      "0     360\n",
      "1     102\n",
      "2     101\n",
      "3+     51\n",
      "Name: Dependents, dtype: int64\n",
      "-----------------------------------------------------\n",
      "Graduate        480\n",
      "Not Graduate    134\n",
      "Name: Education, dtype: int64\n",
      "-----------------------------------------------------\n",
      "No     532\n",
      "Yes     82\n",
      "Name: Self_Employed, dtype: int64\n",
      "-----------------------------------------------------\n",
      "2500    9\n",
      "4583    6\n",
      "6000    6\n",
      "2600    6\n",
      "3333    5\n",
      "       ..\n",
      "3244    1\n",
      "4408    1\n",
      "3917    1\n",
      "3992    1\n",
      "7583    1\n",
      "Name: ApplicantIncome, Length: 505, dtype: int64\n",
      "-----------------------------------------------------\n",
      "0.0       273\n",
      "2500.0      5\n",
      "2083.0      5\n",
      "1666.0      5\n",
      "2250.0      3\n",
      "         ... \n",
      "2791.0      1\n",
      "1010.0      1\n",
      "1695.0      1\n",
      "2598.0      1\n",
      "240.0       1\n",
      "Name: CoapplicantIncome, Length: 287, dtype: int64\n",
      "-----------------------------------------------------\n",
      "128.0    33\n",
      "120.0    20\n",
      "110.0    17\n",
      "100.0    15\n",
      "160.0    12\n",
      "         ..\n",
      "240.0     1\n",
      "214.0     1\n",
      "59.0      1\n",
      "166.0     1\n",
      "253.0     1\n",
      "Name: LoanAmount, Length: 203, dtype: int64\n",
      "-----------------------------------------------------\n",
      "360.0    526\n",
      "180.0     44\n",
      "480.0     15\n",
      "300.0     13\n",
      "240.0      4\n",
      "84.0       4\n",
      "120.0      3\n",
      "60.0       2\n",
      "36.0       2\n",
      "12.0       1\n",
      "Name: Loan_Amount_Term, dtype: int64\n",
      "-----------------------------------------------------\n",
      "1.0    525\n",
      "0.0     89\n",
      "Name: Credit_History, dtype: int64\n",
      "-----------------------------------------------------\n",
      "Semiurban    233\n",
      "Urban        202\n",
      "Rural        179\n",
      "Name: Property_Area, dtype: int64\n",
      "-----------------------------------------------------\n",
      "Y    422\n",
      "N    192\n",
      "Name: Loan_Status, dtype: int64\n",
      "-----------------------------------------------------\n"
     ]
    }
   ],
   "source": [
    "# Value counts of each column.\n",
    "for i in df.columns:\n",
    "        print(df[i].value_counts())\n",
    "        print('-----------------------------------------------------')"
   ]
  },
  {
   "cell_type": "markdown",
   "id": "2c9d113c",
   "metadata": {},
   "source": [
    "The column Loan_ID is the unique ID given to the applicants also it has no significane in the prediction so we shall drop this column."
   ]
  },
  {
   "cell_type": "code",
   "execution_count": 20,
   "id": "54bae29c",
   "metadata": {},
   "outputs": [],
   "source": [
    "# Removing unwanted column\n",
    "df.drop(\"Loan_ID\",axis=1,inplace=True)"
   ]
  },
  {
   "cell_type": "code",
   "execution_count": 21,
   "id": "b386c5f4",
   "metadata": {},
   "outputs": [
    {
     "data": {
      "text/html": [
       "<div>\n",
       "<style scoped>\n",
       "    .dataframe tbody tr th:only-of-type {\n",
       "        vertical-align: middle;\n",
       "    }\n",
       "\n",
       "    .dataframe tbody tr th {\n",
       "        vertical-align: top;\n",
       "    }\n",
       "\n",
       "    .dataframe thead th {\n",
       "        text-align: right;\n",
       "    }\n",
       "</style>\n",
       "<table border=\"1\" class=\"dataframe\">\n",
       "  <thead>\n",
       "    <tr style=\"text-align: right;\">\n",
       "      <th></th>\n",
       "      <th>Gender</th>\n",
       "      <th>Married</th>\n",
       "      <th>Dependents</th>\n",
       "      <th>Education</th>\n",
       "      <th>Self_Employed</th>\n",
       "      <th>ApplicantIncome</th>\n",
       "      <th>CoapplicantIncome</th>\n",
       "      <th>LoanAmount</th>\n",
       "      <th>Loan_Amount_Term</th>\n",
       "      <th>Credit_History</th>\n",
       "      <th>Property_Area</th>\n",
       "      <th>Loan_Status</th>\n",
       "    </tr>\n",
       "  </thead>\n",
       "  <tbody>\n",
       "    <tr>\n",
       "      <th>0</th>\n",
       "      <td>Male</td>\n",
       "      <td>No</td>\n",
       "      <td>0</td>\n",
       "      <td>Graduate</td>\n",
       "      <td>No</td>\n",
       "      <td>5849</td>\n",
       "      <td>0.0</td>\n",
       "      <td>128.0</td>\n",
       "      <td>360.0</td>\n",
       "      <td>1.0</td>\n",
       "      <td>Urban</td>\n",
       "      <td>Y</td>\n",
       "    </tr>\n",
       "    <tr>\n",
       "      <th>1</th>\n",
       "      <td>Male</td>\n",
       "      <td>Yes</td>\n",
       "      <td>1</td>\n",
       "      <td>Graduate</td>\n",
       "      <td>No</td>\n",
       "      <td>4583</td>\n",
       "      <td>1508.0</td>\n",
       "      <td>128.0</td>\n",
       "      <td>360.0</td>\n",
       "      <td>1.0</td>\n",
       "      <td>Rural</td>\n",
       "      <td>N</td>\n",
       "    </tr>\n",
       "    <tr>\n",
       "      <th>2</th>\n",
       "      <td>Male</td>\n",
       "      <td>Yes</td>\n",
       "      <td>0</td>\n",
       "      <td>Graduate</td>\n",
       "      <td>Yes</td>\n",
       "      <td>3000</td>\n",
       "      <td>0.0</td>\n",
       "      <td>66.0</td>\n",
       "      <td>360.0</td>\n",
       "      <td>1.0</td>\n",
       "      <td>Urban</td>\n",
       "      <td>Y</td>\n",
       "    </tr>\n",
       "    <tr>\n",
       "      <th>3</th>\n",
       "      <td>Male</td>\n",
       "      <td>Yes</td>\n",
       "      <td>0</td>\n",
       "      <td>Not Graduate</td>\n",
       "      <td>No</td>\n",
       "      <td>2583</td>\n",
       "      <td>2358.0</td>\n",
       "      <td>120.0</td>\n",
       "      <td>360.0</td>\n",
       "      <td>1.0</td>\n",
       "      <td>Urban</td>\n",
       "      <td>Y</td>\n",
       "    </tr>\n",
       "    <tr>\n",
       "      <th>4</th>\n",
       "      <td>Male</td>\n",
       "      <td>No</td>\n",
       "      <td>0</td>\n",
       "      <td>Graduate</td>\n",
       "      <td>No</td>\n",
       "      <td>6000</td>\n",
       "      <td>0.0</td>\n",
       "      <td>141.0</td>\n",
       "      <td>360.0</td>\n",
       "      <td>1.0</td>\n",
       "      <td>Urban</td>\n",
       "      <td>Y</td>\n",
       "    </tr>\n",
       "    <tr>\n",
       "      <th>...</th>\n",
       "      <td>...</td>\n",
       "      <td>...</td>\n",
       "      <td>...</td>\n",
       "      <td>...</td>\n",
       "      <td>...</td>\n",
       "      <td>...</td>\n",
       "      <td>...</td>\n",
       "      <td>...</td>\n",
       "      <td>...</td>\n",
       "      <td>...</td>\n",
       "      <td>...</td>\n",
       "      <td>...</td>\n",
       "    </tr>\n",
       "    <tr>\n",
       "      <th>609</th>\n",
       "      <td>Female</td>\n",
       "      <td>No</td>\n",
       "      <td>0</td>\n",
       "      <td>Graduate</td>\n",
       "      <td>No</td>\n",
       "      <td>2900</td>\n",
       "      <td>0.0</td>\n",
       "      <td>71.0</td>\n",
       "      <td>360.0</td>\n",
       "      <td>1.0</td>\n",
       "      <td>Rural</td>\n",
       "      <td>Y</td>\n",
       "    </tr>\n",
       "    <tr>\n",
       "      <th>610</th>\n",
       "      <td>Male</td>\n",
       "      <td>Yes</td>\n",
       "      <td>3+</td>\n",
       "      <td>Graduate</td>\n",
       "      <td>No</td>\n",
       "      <td>4106</td>\n",
       "      <td>0.0</td>\n",
       "      <td>40.0</td>\n",
       "      <td>180.0</td>\n",
       "      <td>1.0</td>\n",
       "      <td>Rural</td>\n",
       "      <td>Y</td>\n",
       "    </tr>\n",
       "    <tr>\n",
       "      <th>611</th>\n",
       "      <td>Male</td>\n",
       "      <td>Yes</td>\n",
       "      <td>1</td>\n",
       "      <td>Graduate</td>\n",
       "      <td>No</td>\n",
       "      <td>8072</td>\n",
       "      <td>240.0</td>\n",
       "      <td>253.0</td>\n",
       "      <td>360.0</td>\n",
       "      <td>1.0</td>\n",
       "      <td>Urban</td>\n",
       "      <td>Y</td>\n",
       "    </tr>\n",
       "    <tr>\n",
       "      <th>612</th>\n",
       "      <td>Male</td>\n",
       "      <td>Yes</td>\n",
       "      <td>2</td>\n",
       "      <td>Graduate</td>\n",
       "      <td>No</td>\n",
       "      <td>7583</td>\n",
       "      <td>0.0</td>\n",
       "      <td>187.0</td>\n",
       "      <td>360.0</td>\n",
       "      <td>1.0</td>\n",
       "      <td>Urban</td>\n",
       "      <td>Y</td>\n",
       "    </tr>\n",
       "    <tr>\n",
       "      <th>613</th>\n",
       "      <td>Female</td>\n",
       "      <td>No</td>\n",
       "      <td>0</td>\n",
       "      <td>Graduate</td>\n",
       "      <td>Yes</td>\n",
       "      <td>4583</td>\n",
       "      <td>0.0</td>\n",
       "      <td>133.0</td>\n",
       "      <td>360.0</td>\n",
       "      <td>0.0</td>\n",
       "      <td>Semiurban</td>\n",
       "      <td>N</td>\n",
       "    </tr>\n",
       "  </tbody>\n",
       "</table>\n",
       "<p>614 rows × 12 columns</p>\n",
       "</div>"
      ],
      "text/plain": [
       "     Gender Married Dependents     Education Self_Employed  ApplicantIncome  \\\n",
       "0      Male      No          0      Graduate            No             5849   \n",
       "1      Male     Yes          1      Graduate            No             4583   \n",
       "2      Male     Yes          0      Graduate           Yes             3000   \n",
       "3      Male     Yes          0  Not Graduate            No             2583   \n",
       "4      Male      No          0      Graduate            No             6000   \n",
       "..      ...     ...        ...           ...           ...              ...   \n",
       "609  Female      No          0      Graduate            No             2900   \n",
       "610    Male     Yes         3+      Graduate            No             4106   \n",
       "611    Male     Yes          1      Graduate            No             8072   \n",
       "612    Male     Yes          2      Graduate            No             7583   \n",
       "613  Female      No          0      Graduate           Yes             4583   \n",
       "\n",
       "     CoapplicantIncome  LoanAmount  Loan_Amount_Term  Credit_History  \\\n",
       "0                  0.0       128.0             360.0             1.0   \n",
       "1               1508.0       128.0             360.0             1.0   \n",
       "2                  0.0        66.0             360.0             1.0   \n",
       "3               2358.0       120.0             360.0             1.0   \n",
       "4                  0.0       141.0             360.0             1.0   \n",
       "..                 ...         ...               ...             ...   \n",
       "609                0.0        71.0             360.0             1.0   \n",
       "610                0.0        40.0             180.0             1.0   \n",
       "611              240.0       253.0             360.0             1.0   \n",
       "612                0.0       187.0             360.0             1.0   \n",
       "613                0.0       133.0             360.0             0.0   \n",
       "\n",
       "    Property_Area Loan_Status  \n",
       "0           Urban           Y  \n",
       "1           Rural           N  \n",
       "2           Urban           Y  \n",
       "3           Urban           Y  \n",
       "4           Urban           Y  \n",
       "..            ...         ...  \n",
       "609         Rural           Y  \n",
       "610         Rural           Y  \n",
       "611         Urban           Y  \n",
       "612         Urban           Y  \n",
       "613     Semiurban           N  \n",
       "\n",
       "[614 rows x 12 columns]"
      ]
     },
     "execution_count": 21,
     "metadata": {},
     "output_type": "execute_result"
    }
   ],
   "source": [
    "df"
   ]
  },
  {
   "cell_type": "code",
   "execution_count": 22,
   "id": "ae91f51c",
   "metadata": {},
   "outputs": [
    {
     "data": {
      "text/plain": [
       "Gender                 2\n",
       "Married                2\n",
       "Dependents             4\n",
       "Education              2\n",
       "Self_Employed          2\n",
       "ApplicantIncome      505\n",
       "CoapplicantIncome    287\n",
       "LoanAmount           203\n",
       "Loan_Amount_Term      10\n",
       "Credit_History         2\n",
       "Property_Area          3\n",
       "Loan_Status            2\n",
       "dtype: int64"
      ]
     },
     "execution_count": 22,
     "metadata": {},
     "output_type": "execute_result"
    }
   ],
   "source": [
    "# Unique values\n",
    "df.nunique()"
   ]
  },
  {
   "cell_type": "code",
   "execution_count": 23,
   "id": "4bbe157e",
   "metadata": {},
   "outputs": [
    {
     "data": {
      "text/plain": [
       "array(['Y', 'N'], dtype=object)"
      ]
     },
     "execution_count": 23,
     "metadata": {},
     "output_type": "execute_result"
    }
   ],
   "source": [
    "df[\"Loan_Status\"].unique()"
   ]
  },
  {
   "cell_type": "code",
   "execution_count": 24,
   "id": "0282c31a",
   "metadata": {},
   "outputs": [
    {
     "data": {
      "text/html": [
       "<div>\n",
       "<style scoped>\n",
       "    .dataframe tbody tr th:only-of-type {\n",
       "        vertical-align: middle;\n",
       "    }\n",
       "\n",
       "    .dataframe tbody tr th {\n",
       "        vertical-align: top;\n",
       "    }\n",
       "\n",
       "    .dataframe thead th {\n",
       "        text-align: right;\n",
       "    }\n",
       "</style>\n",
       "<table border=\"1\" class=\"dataframe\">\n",
       "  <thead>\n",
       "    <tr style=\"text-align: right;\">\n",
       "      <th></th>\n",
       "      <th>Gender</th>\n",
       "      <th>Married</th>\n",
       "      <th>Dependents</th>\n",
       "      <th>Education</th>\n",
       "      <th>Self_Employed</th>\n",
       "      <th>ApplicantIncome</th>\n",
       "      <th>CoapplicantIncome</th>\n",
       "      <th>LoanAmount</th>\n",
       "      <th>Loan_Amount_Term</th>\n",
       "      <th>Credit_History</th>\n",
       "      <th>Property_Area</th>\n",
       "      <th>Loan_Status</th>\n",
       "    </tr>\n",
       "  </thead>\n",
       "  <tbody>\n",
       "  </tbody>\n",
       "</table>\n",
       "</div>"
      ],
      "text/plain": [
       "Empty DataFrame\n",
       "Columns: [Gender, Married, Dependents, Education, Self_Employed, ApplicantIncome, CoapplicantIncome, LoanAmount, Loan_Amount_Term, Credit_History, Property_Area, Loan_Status]\n",
       "Index: []"
      ]
     },
     "execution_count": 24,
     "metadata": {},
     "output_type": "execute_result"
    }
   ],
   "source": [
    "#Checking for any empty observation in target column\n",
    "df.loc[df['Loan_Status'] == \" \"]"
   ]
  },
  {
   "cell_type": "markdown",
   "id": "eb1ff2af",
   "metadata": {},
   "source": [
    "No empty observations."
   ]
  },
  {
   "cell_type": "markdown",
   "id": "f0846b96",
   "metadata": {},
   "source": [
    "## UniVariate Analysis"
   ]
  },
  {
   "cell_type": "code",
   "execution_count": 25,
   "id": "aeb3fced",
   "metadata": {},
   "outputs": [
    {
     "data": {
      "image/png": "[encoded data removed]",
      "text/plain": [
       "<Figure size 432x288 with 1 Axes>"
      ]
     },
     "metadata": {
      "needs_background": "light"
     },
     "output_type": "display_data"
    }
   ],
   "source": [
    "sns.countplot(df['Loan_Status'])\n",
    "plt.show()"
   ]
  },
  {
   "cell_type": "code",
   "execution_count": 28,
   "id": "f9dc0333",
   "metadata": {},
   "outputs": [
    {
     "name": "stdout",
     "output_type": "stream",
     "text": [
      "Male      502\n",
      "Female    112\n",
      "Name: Gender, dtype: int64\n"
     ]
    },
    {
     "data": {
      "text/plain": [
       "<AxesSubplot:ylabel='Gender'>"
      ]
     },
     "execution_count": 28,
     "metadata": {},
     "output_type": "execute_result"
    },
    {
     "data": {
      "image/png": "[encoded data removed]",
      "text/plain": [
       "<Figure size 720x504 with 1 Axes>"
      ]
     },
     "metadata": {},
     "output_type": "display_data"
    }
   ],
   "source": [
    "plt.figure(figsize=(10,7))\n",
    "print(df['Gender'].value_counts())\n",
    "df['Gender'].value_counts().plot.pie(autopct='%1.1f%%')"
   ]
  },
  {
   "cell_type": "code",
   "execution_count": 29,
   "id": "626a70ad",
   "metadata": {},
   "outputs": [
    {
     "name": "stdout",
     "output_type": "stream",
     "text": [
      "Yes    401\n",
      "No     213\n",
      "Name: Married, dtype: int64\n"
     ]
    },
    {
     "data": {
      "image/png": "[encoded data removed]",
      "text/plain": [
       "<Figure size 720x504 with 1 Axes>"
      ]
     },
     "metadata": {},
     "output_type": "display_data"
    }
   ],
   "source": [
    "plt.figure(figsize=(10,7))\n",
    "print(df['Married'].value_counts())\n",
    "df['Married'].value_counts().plot.pie(autopct='%1.1f%%')\n",
    "plt.show()"
   ]
  },
  {
   "cell_type": "code",
   "execution_count": 30,
   "id": "93ef445f",
   "metadata": {},
   "outputs": [
    {
     "data": {
      "image/png": "[encoded data removed]",
      "text/plain": [
       "<Figure size 432x288 with 1 Axes>"
      ]
     },
     "metadata": {
      "needs_background": "light"
     },
     "output_type": "display_data"
    }
   ],
   "source": [
    "sns.countplot(df['Dependents'])\n",
    "plt.show()"
   ]
  },
  {
   "cell_type": "code",
   "execution_count": 31,
   "id": "00c36c09",
   "metadata": {},
   "outputs": [
    {
     "name": "stdout",
     "output_type": "stream",
     "text": [
      "Graduate        480\n",
      "Not Graduate    134\n",
      "Name: Education, dtype: int64\n"
     ]
    },
    {
     "data": {
      "image/png": "[encoded data removed]",
      "text/plain": [
       "<Figure size 720x504 with 1 Axes>"
      ]
     },
     "metadata": {},
     "output_type": "display_data"
    }
   ],
   "source": [
    "plt.figure(figsize=(10,7))\n",
    "print(df['Education'].value_counts())\n",
    "df['Education'].value_counts().plot.pie(autopct='%1.1f%%')\n",
    "plt.show()"
   ]
  },
  {
   "cell_type": "code",
   "execution_count": 32,
   "id": "20bab797",
   "metadata": {},
   "outputs": [
    {
     "name": "stdout",
     "output_type": "stream",
     "text": [
      "No     532\n",
      "Yes     82\n",
      "Name: Self_Employed, dtype: int64\n"
     ]
    },
    {
     "data": {
      "image/png": "[encoded data removed]",
      "text/plain": [
       "<Figure size 720x504 with 1 Axes>"
      ]
     },
     "metadata": {},
     "output_type": "display_data"
    }
   ],
   "source": [
    "plt.figure(figsize=(10,7))\n",
    "print(df['Self_Employed'].value_counts())\n",
    "df['Self_Employed'].value_counts().plot.pie(autopct='%1.1f%%')\n",
    "plt.show()"
   ]
  },
  {
   "cell_type": "code",
   "execution_count": 33,
   "id": "59b0b1a0",
   "metadata": {},
   "outputs": [
    {
     "data": {
      "text/plain": [
       "<AxesSubplot:xlabel='ApplicantIncome', ylabel='Count'>"
      ]
     },
     "execution_count": 33,
     "metadata": {},
     "output_type": "execute_result"
    },
    {
     "data": {
      "image/png": "[encoded data removed]",
      "text/plain": [
       "<Figure size 432x288 with 1 Axes>"
      ]
     },
     "metadata": {
      "needs_background": "light"
     },
     "output_type": "display_data"
    }
   ],
   "source": [
    "sns.histplot(data=df,x=\"ApplicantIncome\",bins=10,color='r')"
   ]
  },
  {
   "cell_type": "code",
   "execution_count": 34,
   "id": "0af5d2c3",
   "metadata": {},
   "outputs": [
    {
     "data": {
      "text/plain": [
       "<AxesSubplot:xlabel='CoapplicantIncome', ylabel='Count'>"
      ]
     },
     "execution_count": 34,
     "metadata": {},
     "output_type": "execute_result"
    },
    {
     "data": {
      "image/png": "[encoded data removed]",
      "text/plain": [
       "<Figure size 432x288 with 1 Axes>"
      ]
     },
     "metadata": {
      "needs_background": "light"
     },
     "output_type": "display_data"
    }
   ],
   "source": [
    "sns.histplot(data=df,x=\"CoapplicantIncome\",bins=10,color='g')"
   ]
  },
  {
   "cell_type": "code",
   "execution_count": 35,
   "id": "03f6d346",
   "metadata": {},
   "outputs": [
    {
     "data": {
      "text/plain": [
       "<AxesSubplot:xlabel='LoanAmount', ylabel='Count'>"
      ]
     },
     "execution_count": 35,
     "metadata": {},
     "output_type": "execute_result"
    },
    {
     "data": {
      "image/png": "[encoded data removed]",
      "text/plain": [
       "<Figure size 432x288 with 1 Axes>"
      ]
     },
     "metadata": {
      "needs_background": "light"
     },
     "output_type": "display_data"
    }
   ],
   "source": [
    "sns.histplot(data=df,x=\"LoanAmount\",bins=10,color='y')"
   ]
  },
  {
   "cell_type": "code",
   "execution_count": 36,
   "id": "0bd8040c",
   "metadata": {},
   "outputs": [
    {
     "data": {
      "image/png": "[encoded data removed]",
      "text/plain": [
       "<Figure size 1080x504 with 1 Axes>"
      ]
     },
     "metadata": {
      "needs_background": "light"
     },
     "output_type": "display_data"
    }
   ],
   "source": [
    "plt.figure(figsize=(15,7))\n",
    "sns.countplot(df['Loan_Amount_Term'])\n",
    "plt.show()"
   ]
  },
  {
   "cell_type": "code",
   "execution_count": 37,
   "id": "a0336f1e",
   "metadata": {},
   "outputs": [
    {
     "name": "stdout",
     "output_type": "stream",
     "text": [
      "1.0    525\n",
      "0.0     89\n",
      "Name: Credit_History, dtype: int64\n"
     ]
    },
    {
     "data": {
      "image/png": "[encoded data removed]",
      "text/plain": [
       "<Figure size 720x504 with 1 Axes>"
      ]
     },
     "metadata": {},
     "output_type": "display_data"
    }
   ],
   "source": [
    "plt.figure(figsize=(10,7))\n",
    "print(df['Credit_History'].value_counts())\n",
    "df['Credit_History'].value_counts().plot.pie(autopct='%1.1f%%')\n",
    "plt.show()"
   ]
  },
  {
   "cell_type": "code",
   "execution_count": 38,
   "id": "9da1dfe5",
   "metadata": {},
   "outputs": [
    {
     "name": "stdout",
     "output_type": "stream",
     "text": [
      "Semiurban    233\n",
      "Urban        202\n",
      "Rural        179\n",
      "Name: Property_Area, dtype: int64\n"
     ]
    },
    {
     "data": {
      "image/png": "[encoded data removed]",
      "text/plain": [
       "<Figure size 720x504 with 1 Axes>"
      ]
     },
     "metadata": {},
     "output_type": "display_data"
    }
   ],
   "source": [
    "plt.figure(figsize=(10,7))\n",
    "print(df['Property_Area'].value_counts())\n",
    "df['Property_Area'].value_counts().plot.pie(autopct='%1.1f%%')\n",
    "plt.show()"
   ]
  },
  {
   "cell_type": "markdown",
   "id": "1491cc22",
   "metadata": {},
   "source": [
    "## Bi-Variate Analysis"
   ]
  },
  {
   "cell_type": "code",
   "execution_count": 39,
   "id": "38ec9210",
   "metadata": {},
   "outputs": [
    {
     "data": {
      "text/plain": [
       "<AxesSubplot:xlabel='Gender', ylabel='count'>"
      ]
     },
     "execution_count": 39,
     "metadata": {},
     "output_type": "execute_result"
    },
    {
     "data": {
      "image/png": "[encoded data removed]",
      "text/plain": [
       "<Figure size 432x288 with 1 Axes>"
      ]
     },
     "metadata": {},
     "output_type": "display_data"
    }
   ],
   "source": [
    "sns.set_style('whitegrid')\n",
    "sns.countplot(x='Gender',hue='Loan_Status',data=df)"
   ]
  },
  {
   "cell_type": "code",
   "execution_count": 40,
   "id": "9d6d622c",
   "metadata": {},
   "outputs": [
    {
     "data": {
      "image/png": "[encoded data removed]",
      "text/plain": [
       "<Figure size 432x288 with 1 Axes>"
      ]
     },
     "metadata": {},
     "output_type": "display_data"
    }
   ],
   "source": [
    "sns.set_style('whitegrid')\n",
    "sns.countplot(x='Married',hue='Loan_Status',data=df,palette='rainbow')\n",
    "plt.show()"
   ]
  },
  {
   "cell_type": "code",
   "execution_count": 41,
   "id": "6a3d1f8a",
   "metadata": {},
   "outputs": [
    {
     "data": {
      "image/png": "[encoded data removed]",
      "text/plain": [
       "<Figure size 432x288 with 1 Axes>"
      ]
     },
     "metadata": {},
     "output_type": "display_data"
    }
   ],
   "source": [
    "sns.set_style('whitegrid')\n",
    "sns.countplot(x='Dependents',hue='Loan_Status',data=df,palette='spring')\n",
    "plt.show()"
   ]
  },
  {
   "cell_type": "code",
   "execution_count": 43,
   "id": "d5b8f68c",
   "metadata": {},
   "outputs": [
    {
     "data": {
      "image/png": "[encoded data removed]",
      "text/plain": [
       "<Figure size 432x288 with 1 Axes>"
      ]
     },
     "metadata": {},
     "output_type": "display_data"
    }
   ],
   "source": [
    "sns.set_style('whitegrid')\n",
    "sns.countplot(x='Education',hue='Loan_Status',data=df,palette='magma')\n",
    "plt.show()"
   ]
  },
  {
   "cell_type": "code",
   "execution_count": 44,
   "id": "6a82ea2d",
   "metadata": {},
   "outputs": [
    {
     "data": {
      "text/plain": [
       "<AxesSubplot:xlabel='Self_Employed', ylabel='count'>"
      ]
     },
     "execution_count": 44,
     "metadata": {},
     "output_type": "execute_result"
    },
    {
     "data": {
      "image/png": "[encoded data removed]",
      "text/plain": [
       "<Figure size 432x288 with 1 Axes>"
      ]
     },
     "metadata": {},
     "output_type": "display_data"
    }
   ],
   "source": [
    "sns.set_style('whitegrid')\n",
    "sns.countplot(x='Self_Employed',hue='Loan_Status',data=df,palette='autumn')"
   ]
  },
  {
   "cell_type": "code",
   "execution_count": 46,
   "id": "c0cadd71",
   "metadata": {},
   "outputs": [
    {
     "data": {
      "image/png": "[encoded data removed]",
      "text/plain": [
       "<Figure size 504x504 with 1 Axes>"
      ]
     },
     "metadata": {},
     "output_type": "display_data"
    }
   ],
   "source": [
    "plt.figure(figsize=[7,7])\n",
    "plt.title('Comparision ApplicantIncome and CoapplicantIncome')\n",
    "sns.scatterplot(df['ApplicantIncome'],df['CoapplicantIncome'],hue=df[\"Loan_Status\"])\n",
    "plt.show()"
   ]
  },
  {
   "cell_type": "code",
   "execution_count": 47,
   "id": "debd8b5e",
   "metadata": {},
   "outputs": [
    {
     "data": {
      "image/png": "[encoded data removed]",
      "text/plain": [
       "<Figure size 504x504 with 1 Axes>"
      ]
     },
     "metadata": {},
     "output_type": "display_data"
    }
   ],
   "source": [
    "plt.figure(figsize=[7,7])\n",
    "plt.title('Comparision LoanAmount and Loan_Amount_Term')\n",
    "sns.scatterplot(df['LoanAmount'],df['Loan_Amount_Term'],hue=df[\"Loan_Status\"])\n",
    "plt.show()"
   ]
  },
  {
   "cell_type": "code",
   "execution_count": 48,
   "id": "5b131be4",
   "metadata": {},
   "outputs": [
    {
     "data": {
      "text/plain": [
       "<AxesSubplot:xlabel='ApplicantIncome', ylabel='Density'>"
      ]
     },
     "execution_count": 48,
     "metadata": {},
     "output_type": "execute_result"
    },
    {
     "data": {
      "image/png": "[encoded data removed]",
      "text/plain": [
       "<Figure size 432x288 with 1 Axes>"
      ]
     },
     "metadata": {},
     "output_type": "display_data"
    }
   ],
   "source": [
    "sns.distplot(df['ApplicantIncome'])"
   ]
  },
  {
   "cell_type": "code",
   "execution_count": 49,
   "id": "13f49f32",
   "metadata": {},
   "outputs": [
    {
     "data": {
      "text/plain": [
       "<AxesSubplot:xlabel='CoapplicantIncome', ylabel='Density'>"
      ]
     },
     "execution_count": 49,
     "metadata": {},
     "output_type": "execute_result"
    },
    {
     "data": {
      "image/png": "[encoded data removed]",
      "text/plain": [
       "<Figure size 432x288 with 1 Axes>"
      ]
     },
     "metadata": {},
     "output_type": "display_data"
    }
   ],
   "source": [
    "sns.distplot(df['CoapplicantIncome'])"
   ]
  },
  {
   "cell_type": "code",
   "execution_count": 50,
   "id": "81657e42",
   "metadata": {},
   "outputs": [
    {
     "data": {
      "text/plain": [
       "<AxesSubplot:xlabel='LoanAmount', ylabel='Density'>"
      ]
     },
     "execution_count": 50,
     "metadata": {},
     "output_type": "execute_result"
    },
    {
     "data": {
      "image/png": "[encoded data removed]",
      "text/plain": [
       "<Figure size 432x288 with 1 Axes>"
      ]
     },
     "metadata": {},
     "output_type": "display_data"
    }
   ],
   "source": [
    "sns.distplot(df['LoanAmount'])"
   ]
  },
  {
   "cell_type": "code",
   "execution_count": 51,
   "id": "7c95bbcb",
   "metadata": {},
   "outputs": [
    {
     "data": {
      "text/plain": [
       "<AxesSubplot:xlabel='Loan_Amount_Term', ylabel='Density'>"
      ]
     },
     "execution_count": 51,
     "metadata": {},
     "output_type": "execute_result"
    },
    {
     "data": {
      "image/png": "[encoded data removed]",
      "text/plain": [
       "<Figure size 432x288 with 1 Axes>"
      ]
     },
     "metadata": {},
     "output_type": "display_data"
    }
   ],
   "source": [
    "sns.distplot(df['Loan_Amount_Term'])"
   ]
  },
  {
   "cell_type": "code",
   "execution_count": 52,
   "id": "ea6633de",
   "metadata": {},
   "outputs": [
    {
     "data": {
      "text/plain": [
       "<AxesSubplot:xlabel='Credit_History', ylabel='Density'>"
      ]
     },
     "execution_count": 52,
     "metadata": {},
     "output_type": "execute_result"
    },
    {
     "data": {
      "image/png": "[encoded data removed]",
      "text/plain": [
       "<Figure size 432x288 with 1 Axes>"
      ]
     },
     "metadata": {},
     "output_type": "display_data"
    }
   ],
   "source": [
    "sns.distplot(df['Credit_History'])"
   ]
  },
  {
   "cell_type": "code",
   "execution_count": 53,
   "id": "a6a6b207",
   "metadata": {},
   "outputs": [
    {
     "data": {
      "text/plain": [
       "<seaborn.axisgrid.PairGrid at 0x1b032991670>"
      ]
     },
     "execution_count": 53,
     "metadata": {},
     "output_type": "execute_result"
    },
    {
     "data": {
      "image/png": "[encoded data removed]",
      "text/plain": [
       "<Figure size 964.75x900 with 30 Axes>"
      ]
     },
     "metadata": {},
     "output_type": "display_data"
    }
   ],
   "source": [
    "sns.pairplot(df,hue=\"Loan_Status\")"
   ]
  },
  {
   "cell_type": "markdown",
   "id": "0058255e",
   "metadata": {},
   "source": [
    "## Encoding the Data Frame"
   ]
  },
  {
   "cell_type": "markdown",
   "id": "7ebef91c",
   "metadata": {},
   "source": [
    "We shall use Label Encoder to encode the data for model building."
   ]
  },
  {
   "cell_type": "code",
   "execution_count": 54,
   "id": "2ebf24ca",
   "metadata": {},
   "outputs": [],
   "source": [
    "from sklearn.preprocessing import LabelEncoder\n",
    "le=LabelEncoder()"
   ]
  },
  {
   "cell_type": "code",
   "execution_count": 55,
   "id": "a16783c7",
   "metadata": {},
   "outputs": [],
   "source": [
    "df['Gender'] = le.fit_transform(df['Gender'])\n",
    "df['Married'] = le.fit_transform(df['Married'])\n",
    "df['Dependents'] = le.fit_transform(df['Dependents'])\n",
    "df['Education'] = le.fit_transform(df['Education'])\n",
    "df['Self_Employed'] = le.fit_transform(df['Self_Employed'])\n",
    "df['Property_Area'] = le.fit_transform(df['Property_Area'])\n",
    "df['Loan_Status'] = le.fit_transform(df['Loan_Status'])"
   ]
  },
  {
   "cell_type": "code",
   "execution_count": 56,
   "id": "802c6cef",
   "metadata": {},
   "outputs": [
    {
     "data": {
      "text/html": [
       "<div>\n",
       "<style scoped>\n",
       "    .dataframe tbody tr th:only-of-type {\n",
       "        vertical-align: middle;\n",
       "    }\n",
       "\n",
       "    .dataframe tbody tr th {\n",
       "        vertical-align: top;\n",
       "    }\n",
       "\n",
       "    .dataframe thead th {\n",
       "        text-align: right;\n",
       "    }\n",
       "</style>\n",
       "<table border=\"1\" class=\"dataframe\">\n",
       "  <thead>\n",
       "    <tr style=\"text-align: right;\">\n",
       "      <th></th>\n",
       "      <th>Gender</th>\n",
       "      <th>Married</th>\n",
       "      <th>Dependents</th>\n",
       "      <th>Education</th>\n",
       "      <th>Self_Employed</th>\n",
       "      <th>ApplicantIncome</th>\n",
       "      <th>CoapplicantIncome</th>\n",
       "      <th>LoanAmount</th>\n",
       "      <th>Loan_Amount_Term</th>\n",
       "      <th>Credit_History</th>\n",
       "      <th>Property_Area</th>\n",
       "      <th>Loan_Status</th>\n",
       "    </tr>\n",
       "  </thead>\n",
       "  <tbody>\n",
       "    <tr>\n",
       "      <th>0</th>\n",
       "      <td>1</td>\n",
       "      <td>0</td>\n",
       "      <td>0</td>\n",
       "      <td>0</td>\n",
       "      <td>0</td>\n",
       "      <td>5849</td>\n",
       "      <td>0.0</td>\n",
       "      <td>128.0</td>\n",
       "      <td>360.0</td>\n",
       "      <td>1.0</td>\n",
       "      <td>2</td>\n",
       "      <td>1</td>\n",
       "    </tr>\n",
       "    <tr>\n",
       "      <th>1</th>\n",
       "      <td>1</td>\n",
       "      <td>1</td>\n",
       "      <td>1</td>\n",
       "      <td>0</td>\n",
       "      <td>0</td>\n",
       "      <td>4583</td>\n",
       "      <td>1508.0</td>\n",
       "      <td>128.0</td>\n",
       "      <td>360.0</td>\n",
       "      <td>1.0</td>\n",
       "      <td>0</td>\n",
       "      <td>0</td>\n",
       "    </tr>\n",
       "    <tr>\n",
       "      <th>2</th>\n",
       "      <td>1</td>\n",
       "      <td>1</td>\n",
       "      <td>0</td>\n",
       "      <td>0</td>\n",
       "      <td>1</td>\n",
       "      <td>3000</td>\n",
       "      <td>0.0</td>\n",
       "      <td>66.0</td>\n",
       "      <td>360.0</td>\n",
       "      <td>1.0</td>\n",
       "      <td>2</td>\n",
       "      <td>1</td>\n",
       "    </tr>\n",
       "    <tr>\n",
       "      <th>3</th>\n",
       "      <td>1</td>\n",
       "      <td>1</td>\n",
       "      <td>0</td>\n",
       "      <td>1</td>\n",
       "      <td>0</td>\n",
       "      <td>2583</td>\n",
       "      <td>2358.0</td>\n",
       "      <td>120.0</td>\n",
       "      <td>360.0</td>\n",
       "      <td>1.0</td>\n",
       "      <td>2</td>\n",
       "      <td>1</td>\n",
       "    </tr>\n",
       "    <tr>\n",
       "      <th>4</th>\n",
       "      <td>1</td>\n",
       "      <td>0</td>\n",
       "      <td>0</td>\n",
       "      <td>0</td>\n",
       "      <td>0</td>\n",
       "      <td>6000</td>\n",
       "      <td>0.0</td>\n",
       "      <td>141.0</td>\n",
       "      <td>360.0</td>\n",
       "      <td>1.0</td>\n",
       "      <td>2</td>\n",
       "      <td>1</td>\n",
       "    </tr>\n",
       "    <tr>\n",
       "      <th>...</th>\n",
       "      <td>...</td>\n",
       "      <td>...</td>\n",
       "      <td>...</td>\n",
       "      <td>...</td>\n",
       "      <td>...</td>\n",
       "      <td>...</td>\n",
       "      <td>...</td>\n",
       "      <td>...</td>\n",
       "      <td>...</td>\n",
       "      <td>...</td>\n",
       "      <td>...</td>\n",
       "      <td>...</td>\n",
       "    </tr>\n",
       "    <tr>\n",
       "      <th>609</th>\n",
       "      <td>0</td>\n",
       "      <td>0</td>\n",
       "      <td>0</td>\n",
       "      <td>0</td>\n",
       "      <td>0</td>\n",
       "      <td>2900</td>\n",
       "      <td>0.0</td>\n",
       "      <td>71.0</td>\n",
       "      <td>360.0</td>\n",
       "      <td>1.0</td>\n",
       "      <td>0</td>\n",
       "      <td>1</td>\n",
       "    </tr>\n",
       "    <tr>\n",
       "      <th>610</th>\n",
       "      <td>1</td>\n",
       "      <td>1</td>\n",
       "      <td>3</td>\n",
       "      <td>0</td>\n",
       "      <td>0</td>\n",
       "      <td>4106</td>\n",
       "      <td>0.0</td>\n",
       "      <td>40.0</td>\n",
       "      <td>180.0</td>\n",
       "      <td>1.0</td>\n",
       "      <td>0</td>\n",
       "      <td>1</td>\n",
       "    </tr>\n",
       "    <tr>\n",
       "      <th>611</th>\n",
       "      <td>1</td>\n",
       "      <td>1</td>\n",
       "      <td>1</td>\n",
       "      <td>0</td>\n",
       "      <td>0</td>\n",
       "      <td>8072</td>\n",
       "      <td>240.0</td>\n",
       "      <td>253.0</td>\n",
       "      <td>360.0</td>\n",
       "      <td>1.0</td>\n",
       "      <td>2</td>\n",
       "      <td>1</td>\n",
       "    </tr>\n",
       "    <tr>\n",
       "      <th>612</th>\n",
       "      <td>1</td>\n",
       "      <td>1</td>\n",
       "      <td>2</td>\n",
       "      <td>0</td>\n",
       "      <td>0</td>\n",
       "      <td>7583</td>\n",
       "      <td>0.0</td>\n",
       "      <td>187.0</td>\n",
       "      <td>360.0</td>\n",
       "      <td>1.0</td>\n",
       "      <td>2</td>\n",
       "      <td>1</td>\n",
       "    </tr>\n",
       "    <tr>\n",
       "      <th>613</th>\n",
       "      <td>0</td>\n",
       "      <td>0</td>\n",
       "      <td>0</td>\n",
       "      <td>0</td>\n",
       "      <td>1</td>\n",
       "      <td>4583</td>\n",
       "      <td>0.0</td>\n",
       "      <td>133.0</td>\n",
       "      <td>360.0</td>\n",
       "      <td>0.0</td>\n",
       "      <td>1</td>\n",
       "      <td>0</td>\n",
       "    </tr>\n",
       "  </tbody>\n",
       "</table>\n",
       "<p>614 rows × 12 columns</p>\n",
       "</div>"
      ],
      "text/plain": [
       "     Gender  Married  Dependents  Education  Self_Employed  ApplicantIncome  \\\n",
       "0         1        0           0          0              0             5849   \n",
       "1         1        1           1          0              0             4583   \n",
       "2         1        1           0          0              1             3000   \n",
       "3         1        1           0          1              0             2583   \n",
       "4         1        0           0          0              0             6000   \n",
       "..      ...      ...         ...        ...            ...              ...   \n",
       "609       0        0           0          0              0             2900   \n",
       "610       1        1           3          0              0             4106   \n",
       "611       1        1           1          0              0             8072   \n",
       "612       1        1           2          0              0             7583   \n",
       "613       0        0           0          0              1             4583   \n",
       "\n",
       "     CoapplicantIncome  LoanAmount  Loan_Amount_Term  Credit_History  \\\n",
       "0                  0.0       128.0             360.0             1.0   \n",
       "1               1508.0       128.0             360.0             1.0   \n",
       "2                  0.0        66.0             360.0             1.0   \n",
       "3               2358.0       120.0             360.0             1.0   \n",
       "4                  0.0       141.0             360.0             1.0   \n",
       "..                 ...         ...               ...             ...   \n",
       "609                0.0        71.0             360.0             1.0   \n",
       "610                0.0        40.0             180.0             1.0   \n",
       "611              240.0       253.0             360.0             1.0   \n",
       "612                0.0       187.0             360.0             1.0   \n",
       "613                0.0       133.0             360.0             0.0   \n",
       "\n",
       "     Property_Area  Loan_Status  \n",
       "0                2            1  \n",
       "1                0            0  \n",
       "2                2            1  \n",
       "3                2            1  \n",
       "4                2            1  \n",
       "..             ...          ...  \n",
       "609              0            1  \n",
       "610              0            1  \n",
       "611              2            1  \n",
       "612              2            1  \n",
       "613              1            0  \n",
       "\n",
       "[614 rows x 12 columns]"
      ]
     },
     "execution_count": 56,
     "metadata": {},
     "output_type": "execute_result"
    }
   ],
   "source": [
    "df"
   ]
  },
  {
   "cell_type": "markdown",
   "id": "c8cbce09",
   "metadata": {},
   "source": [
    "## Checking Outliers"
   ]
  },
  {
   "cell_type": "code",
   "execution_count": 57,
   "id": "32b5fcdd",
   "metadata": {},
   "outputs": [
    {
     "data": {
      "image/png": "[encoded data removed]",
      "text/plain": [
       "<Figure size 432x288 with 1 Axes>"
      ]
     },
     "metadata": {},
     "output_type": "display_data"
    },
    {
     "data": {
      "image/png": "[encoded data removed]",
      "text/plain": [
       "<Figure size 432x288 with 1 Axes>"
      ]
     },
     "metadata": {},
     "output_type": "display_data"
    },
    {
     "data": {
      "image/png": "[encoded data removed]",
      "text/plain": [
       "<Figure size 432x288 with 1 Axes>"
      ]
     },
     "metadata": {},
     "output_type": "display_data"
    },
    {
     "data": {
      "image/png": "[encoded data removed]",
      "text/plain": [
       "<Figure size 432x288 with 1 Axes>"
      ]
     },
     "metadata": {},
     "output_type": "display_data"
    },
    {
     "data": {
      "image/png": "[encoded data removed]",
      "text/plain": [
       "<Figure size 432x288 with 1 Axes>"
      ]
     },
     "metadata": {},
     "output_type": "display_data"
    },
    {
     "data": {
      "image/png": "[encoded data removed]",
      "text/plain": [
       "<Figure size 432x288 with 1 Axes>"
      ]
     },
     "metadata": {},
     "output_type": "display_data"
    },
    {
     "data": {
      "image/png": "[encoded data removed]",
      "text/plain": [
       "<Figure size 432x288 with 1 Axes>"
      ]
     },
     "metadata": {},
     "output_type": "display_data"
    },
    {
     "data": {
      "image/png": "[encoded data removed]",
      "text/plain": [
       "<Figure size 432x288 with 1 Axes>"
      ]
     },
     "metadata": {},
     "output_type": "display_data"
    },
    {
     "data": {
      "image/png": "[encoded data removed]",
      "text/plain": [
       "<Figure size 432x288 with 1 Axes>"
      ]
     },
     "metadata": {},
     "output_type": "display_data"
    },
    {
     "data": {
      "image/png": "[encoded data removed]",
      "text/plain": [
       "<Figure size 432x288 with 1 Axes>"
      ]
     },
     "metadata": {},
     "output_type": "display_data"
    },
    {
     "data": {
      "image/png": "[encoded data removed]",
      "text/plain": [
       "<Figure size 432x288 with 1 Axes>"
      ]
     },
     "metadata": {},
     "output_type": "display_data"
    },
    {
     "data": {
      "image/png": "[encoded data removed]",
      "text/plain": [
       "<Figure size 432x288 with 1 Axes>"
      ]
     },
     "metadata": {},
     "output_type": "display_data"
    }
   ],
   "source": [
    "for i in df.columns:\n",
    "    sns.boxplot(df[i])\n",
    "    plt.show()"
   ]
  },
  {
   "cell_type": "markdown",
   "id": "d28e22aa",
   "metadata": {},
   "source": [
    "We can see outliers present in Gender, Dependents, Education, Self_Employed, ApplicantIncome, CoapplicantIncome, LoanAmount, Loan_Amount_Term & Credit_History."
   ]
  },
  {
   "cell_type": "markdown",
   "id": "609f5c83",
   "metadata": {},
   "source": [
    "## Removing Outliers"
   ]
  },
  {
   "cell_type": "markdown",
   "id": "9579b0fc",
   "metadata": {},
   "source": [
    "We shall remove the outliers present in the dataset using Z-Score Method."
   ]
  },
  {
   "cell_type": "code",
   "execution_count": 58,
   "id": "0070c31c",
   "metadata": {},
   "outputs": [],
   "source": [
    "df_outliers=df[[\"Gender\", \"Dependents\", \"Education\",\"Self_Employed\",\"ApplicantIncome\",\"CoapplicantIncome\",\"LoanAmount\",\"Loan_Amount_Term\",\"Credit_History\"]]"
   ]
  },
  {
   "cell_type": "code",
   "execution_count": 59,
   "id": "4348d72d",
   "metadata": {},
   "outputs": [
    {
     "data": {
      "text/html": [
       "<div>\n",
       "<style scoped>\n",
       "    .dataframe tbody tr th:only-of-type {\n",
       "        vertical-align: middle;\n",
       "    }\n",
       "\n",
       "    .dataframe tbody tr th {\n",
       "        vertical-align: top;\n",
       "    }\n",
       "\n",
       "    .dataframe thead th {\n",
       "        text-align: right;\n",
       "    }\n",
       "</style>\n",
       "<table border=\"1\" class=\"dataframe\">\n",
       "  <thead>\n",
       "    <tr style=\"text-align: right;\">\n",
       "      <th></th>\n",
       "      <th>Gender</th>\n",
       "      <th>Married</th>\n",
       "      <th>Dependents</th>\n",
       "      <th>Education</th>\n",
       "      <th>Self_Employed</th>\n",
       "      <th>ApplicantIncome</th>\n",
       "      <th>CoapplicantIncome</th>\n",
       "      <th>LoanAmount</th>\n",
       "      <th>Loan_Amount_Term</th>\n",
       "      <th>Credit_History</th>\n",
       "      <th>Property_Area</th>\n",
       "      <th>Loan_Status</th>\n",
       "    </tr>\n",
       "  </thead>\n",
       "  <tbody>\n",
       "    <tr>\n",
       "      <th>0</th>\n",
       "      <td>1</td>\n",
       "      <td>0</td>\n",
       "      <td>0</td>\n",
       "      <td>0</td>\n",
       "      <td>0</td>\n",
       "      <td>5849</td>\n",
       "      <td>0.0</td>\n",
       "      <td>128.0</td>\n",
       "      <td>360.0</td>\n",
       "      <td>1.0</td>\n",
       "      <td>2</td>\n",
       "      <td>1</td>\n",
       "    </tr>\n",
       "    <tr>\n",
       "      <th>1</th>\n",
       "      <td>1</td>\n",
       "      <td>1</td>\n",
       "      <td>1</td>\n",
       "      <td>0</td>\n",
       "      <td>0</td>\n",
       "      <td>4583</td>\n",
       "      <td>1508.0</td>\n",
       "      <td>128.0</td>\n",
       "      <td>360.0</td>\n",
       "      <td>1.0</td>\n",
       "      <td>0</td>\n",
       "      <td>0</td>\n",
       "    </tr>\n",
       "    <tr>\n",
       "      <th>2</th>\n",
       "      <td>1</td>\n",
       "      <td>1</td>\n",
       "      <td>0</td>\n",
       "      <td>0</td>\n",
       "      <td>1</td>\n",
       "      <td>3000</td>\n",
       "      <td>0.0</td>\n",
       "      <td>66.0</td>\n",
       "      <td>360.0</td>\n",
       "      <td>1.0</td>\n",
       "      <td>2</td>\n",
       "      <td>1</td>\n",
       "    </tr>\n",
       "    <tr>\n",
       "      <th>3</th>\n",
       "      <td>1</td>\n",
       "      <td>1</td>\n",
       "      <td>0</td>\n",
       "      <td>1</td>\n",
       "      <td>0</td>\n",
       "      <td>2583</td>\n",
       "      <td>2358.0</td>\n",
       "      <td>120.0</td>\n",
       "      <td>360.0</td>\n",
       "      <td>1.0</td>\n",
       "      <td>2</td>\n",
       "      <td>1</td>\n",
       "    </tr>\n",
       "    <tr>\n",
       "      <th>4</th>\n",
       "      <td>1</td>\n",
       "      <td>0</td>\n",
       "      <td>0</td>\n",
       "      <td>0</td>\n",
       "      <td>0</td>\n",
       "      <td>6000</td>\n",
       "      <td>0.0</td>\n",
       "      <td>141.0</td>\n",
       "      <td>360.0</td>\n",
       "      <td>1.0</td>\n",
       "      <td>2</td>\n",
       "      <td>1</td>\n",
       "    </tr>\n",
       "    <tr>\n",
       "      <th>...</th>\n",
       "      <td>...</td>\n",
       "      <td>...</td>\n",
       "      <td>...</td>\n",
       "      <td>...</td>\n",
       "      <td>...</td>\n",
       "      <td>...</td>\n",
       "      <td>...</td>\n",
       "      <td>...</td>\n",
       "      <td>...</td>\n",
       "      <td>...</td>\n",
       "      <td>...</td>\n",
       "      <td>...</td>\n",
       "    </tr>\n",
       "    <tr>\n",
       "      <th>609</th>\n",
       "      <td>0</td>\n",
       "      <td>0</td>\n",
       "      <td>0</td>\n",
       "      <td>0</td>\n",
       "      <td>0</td>\n",
       "      <td>2900</td>\n",
       "      <td>0.0</td>\n",
       "      <td>71.0</td>\n",
       "      <td>360.0</td>\n",
       "      <td>1.0</td>\n",
       "      <td>0</td>\n",
       "      <td>1</td>\n",
       "    </tr>\n",
       "    <tr>\n",
       "      <th>610</th>\n",
       "      <td>1</td>\n",
       "      <td>1</td>\n",
       "      <td>3</td>\n",
       "      <td>0</td>\n",
       "      <td>0</td>\n",
       "      <td>4106</td>\n",
       "      <td>0.0</td>\n",
       "      <td>40.0</td>\n",
       "      <td>180.0</td>\n",
       "      <td>1.0</td>\n",
       "      <td>0</td>\n",
       "      <td>1</td>\n",
       "    </tr>\n",
       "    <tr>\n",
       "      <th>611</th>\n",
       "      <td>1</td>\n",
       "      <td>1</td>\n",
       "      <td>1</td>\n",
       "      <td>0</td>\n",
       "      <td>0</td>\n",
       "      <td>8072</td>\n",
       "      <td>240.0</td>\n",
       "      <td>253.0</td>\n",
       "      <td>360.0</td>\n",
       "      <td>1.0</td>\n",
       "      <td>2</td>\n",
       "      <td>1</td>\n",
       "    </tr>\n",
       "    <tr>\n",
       "      <th>612</th>\n",
       "      <td>1</td>\n",
       "      <td>1</td>\n",
       "      <td>2</td>\n",
       "      <td>0</td>\n",
       "      <td>0</td>\n",
       "      <td>7583</td>\n",
       "      <td>0.0</td>\n",
       "      <td>187.0</td>\n",
       "      <td>360.0</td>\n",
       "      <td>1.0</td>\n",
       "      <td>2</td>\n",
       "      <td>1</td>\n",
       "    </tr>\n",
       "    <tr>\n",
       "      <th>613</th>\n",
       "      <td>0</td>\n",
       "      <td>0</td>\n",
       "      <td>0</td>\n",
       "      <td>0</td>\n",
       "      <td>1</td>\n",
       "      <td>4583</td>\n",
       "      <td>0.0</td>\n",
       "      <td>133.0</td>\n",
       "      <td>360.0</td>\n",
       "      <td>0.0</td>\n",
       "      <td>1</td>\n",
       "      <td>0</td>\n",
       "    </tr>\n",
       "  </tbody>\n",
       "</table>\n",
       "<p>577 rows × 12 columns</p>\n",
       "</div>"
      ],
      "text/plain": [
       "     Gender  Married  Dependents  Education  Self_Employed  ApplicantIncome  \\\n",
       "0         1        0           0          0              0             5849   \n",
       "1         1        1           1          0              0             4583   \n",
       "2         1        1           0          0              1             3000   \n",
       "3         1        1           0          1              0             2583   \n",
       "4         1        0           0          0              0             6000   \n",
       "..      ...      ...         ...        ...            ...              ...   \n",
       "609       0        0           0          0              0             2900   \n",
       "610       1        1           3          0              0             4106   \n",
       "611       1        1           1          0              0             8072   \n",
       "612       1        1           2          0              0             7583   \n",
       "613       0        0           0          0              1             4583   \n",
       "\n",
       "     CoapplicantIncome  LoanAmount  Loan_Amount_Term  Credit_History  \\\n",
       "0                  0.0       128.0             360.0             1.0   \n",
       "1               1508.0       128.0             360.0             1.0   \n",
       "2                  0.0        66.0             360.0             1.0   \n",
       "3               2358.0       120.0             360.0             1.0   \n",
       "4                  0.0       141.0             360.0             1.0   \n",
       "..                 ...         ...               ...             ...   \n",
       "609                0.0        71.0             360.0             1.0   \n",
       "610                0.0        40.0             180.0             1.0   \n",
       "611              240.0       253.0             360.0             1.0   \n",
       "612                0.0       187.0             360.0             1.0   \n",
       "613                0.0       133.0             360.0             0.0   \n",
       "\n",
       "     Property_Area  Loan_Status  \n",
       "0                2            1  \n",
       "1                0            0  \n",
       "2                2            1  \n",
       "3                2            1  \n",
       "4                2            1  \n",
       "..             ...          ...  \n",
       "609              0            1  \n",
       "610              0            1  \n",
       "611              2            1  \n",
       "612              2            1  \n",
       "613              1            0  \n",
       "\n",
       "[577 rows x 12 columns]"
      ]
     },
     "execution_count": 59,
     "metadata": {},
     "output_type": "execute_result"
    }
   ],
   "source": [
    "from scipy.stats import zscore\n",
    "\n",
    "z=np.abs(zscore(df_outliers))\n",
    "new_df=df[(z<3).all(axis=1)]\n",
    "new_df"
   ]
  },
  {
   "cell_type": "code",
   "execution_count": 60,
   "id": "2679ac9a",
   "metadata": {},
   "outputs": [
    {
     "data": {
      "text/plain": [
       "(577, 12)"
      ]
     },
     "execution_count": 60,
     "metadata": {},
     "output_type": "execute_result"
    }
   ],
   "source": [
    "new_df.shape"
   ]
  },
  {
   "cell_type": "code",
   "execution_count": 61,
   "id": "674c490f",
   "metadata": {},
   "outputs": [
    {
     "data": {
      "text/plain": [
       "(614, 12)"
      ]
     },
     "execution_count": 61,
     "metadata": {},
     "output_type": "execute_result"
    }
   ],
   "source": [
    "df.shape"
   ]
  },
  {
   "cell_type": "code",
   "execution_count": 62,
   "id": "bbeabe91",
   "metadata": {},
   "outputs": [
    {
     "data": {
      "text/plain": [
       "6.026058631921824"
      ]
     },
     "execution_count": 62,
     "metadata": {},
     "output_type": "execute_result"
    }
   ],
   "source": [
    "Data_loss=((614-577)/614)*100\n",
    "Data_loss"
   ]
  },
  {
   "cell_type": "markdown",
   "id": "5b96aa8f",
   "metadata": {},
   "source": [
    "The data loss after z-score is 6.02 %."
   ]
  },
  {
   "cell_type": "markdown",
   "id": "2042de9a",
   "metadata": {},
   "source": [
    "## Checking Skewness"
   ]
  },
  {
   "cell_type": "code",
   "execution_count": 63,
   "id": "70f6bded",
   "metadata": {},
   "outputs": [
    {
     "data": {
      "text/plain": [
       "Gender              -1.622920\n",
       "Married             -0.630211\n",
       "Dependents           1.052106\n",
       "Education            1.306588\n",
       "Self_Employed        2.252848\n",
       "ApplicantIncome      2.148522\n",
       "CoapplicantIncome    1.350517\n",
       "LoanAmount           1.151525\n",
       "Loan_Amount_Term    -2.098806\n",
       "Credit_History      -1.976043\n",
       "Property_Area       -0.055332\n",
       "Loan_Status         -0.822635\n",
       "dtype: float64"
      ]
     },
     "execution_count": 63,
     "metadata": {},
     "output_type": "execute_result"
    }
   ],
   "source": [
    "new_df.skew()"
   ]
  },
  {
   "cell_type": "markdown",
   "id": "8c47b8a1",
   "metadata": {},
   "source": [
    "We see high levels of skewness in most of the columns."
   ]
  },
  {
   "cell_type": "code",
   "execution_count": 64,
   "id": "847a4c4b",
   "metadata": {},
   "outputs": [],
   "source": [
    "df_skew=[\"Gender\",\"Married\",\"Dependents\",\"Education\",\"Self_Employed\",\"ApplicantIncome\",\"CoapplicantIncome\",\"LoanAmount\",\"Loan_Amount_Term\",\"Credit_History\"]"
   ]
  },
  {
   "cell_type": "markdown",
   "id": "2a118829",
   "metadata": {},
   "source": [
    "### We shall use Power Transformer to remove skewness."
   ]
  },
  {
   "cell_type": "code",
   "execution_count": 65,
   "id": "1ff4611d",
   "metadata": {},
   "outputs": [],
   "source": [
    "from sklearn.preprocessing import PowerTransformer\n",
    "scal = PowerTransformer(method='yeo-johnson')"
   ]
  },
  {
   "cell_type": "code",
   "execution_count": 66,
   "id": "0f7d0a56",
   "metadata": {},
   "outputs": [
    {
     "data": {
      "text/plain": [
       "Gender              -1.622920\n",
       "Married             -0.630211\n",
       "Dependents           0.478360\n",
       "Education            1.306588\n",
       "Self_Employed        2.252848\n",
       "ApplicantIncome      0.027981\n",
       "CoapplicantIncome   -0.191876\n",
       "LoanAmount           0.048425\n",
       "Loan_Amount_Term     0.727533\n",
       "Credit_History      -1.976043\n",
       "dtype: float64"
      ]
     },
     "execution_count": 66,
     "metadata": {},
     "output_type": "execute_result"
    }
   ],
   "source": [
    "new_df[df_skew] = scal.fit_transform(new_df[df_skew].values)\n",
    "new_df[df_skew].skew()"
   ]
  },
  {
   "cell_type": "code",
   "execution_count": 67,
   "id": "95ba85ea",
   "metadata": {},
   "outputs": [
    {
     "data": {
      "text/html": [
       "<div>\n",
       "<style scoped>\n",
       "    .dataframe tbody tr th:only-of-type {\n",
       "        vertical-align: middle;\n",
       "    }\n",
       "\n",
       "    .dataframe tbody tr th {\n",
       "        vertical-align: top;\n",
       "    }\n",
       "\n",
       "    .dataframe thead th {\n",
       "        text-align: right;\n",
       "    }\n",
       "</style>\n",
       "<table border=\"1\" class=\"dataframe\">\n",
       "  <thead>\n",
       "    <tr style=\"text-align: right;\">\n",
       "      <th></th>\n",
       "      <th>Gender</th>\n",
       "      <th>Married</th>\n",
       "      <th>Dependents</th>\n",
       "      <th>Education</th>\n",
       "      <th>Self_Employed</th>\n",
       "      <th>ApplicantIncome</th>\n",
       "      <th>CoapplicantIncome</th>\n",
       "      <th>LoanAmount</th>\n",
       "      <th>Loan_Amount_Term</th>\n",
       "      <th>Credit_History</th>\n",
       "      <th>Property_Area</th>\n",
       "      <th>Loan_Status</th>\n",
       "    </tr>\n",
       "  </thead>\n",
       "  <tbody>\n",
       "    <tr>\n",
       "      <th>0</th>\n",
       "      <td>0.477137</td>\n",
       "      <td>-1.362511</td>\n",
       "      <td>-0.809243</td>\n",
       "      <td>-0.541961</td>\n",
       "      <td>-0.380580</td>\n",
       "      <td>0.681780</td>\n",
       "      <td>-1.122446</td>\n",
       "      <td>0.000771</td>\n",
       "      <td>0.130788</td>\n",
       "      <td>0.418513</td>\n",
       "      <td>2</td>\n",
       "      <td>1</td>\n",
       "    </tr>\n",
       "    <tr>\n",
       "      <th>1</th>\n",
       "      <td>0.477137</td>\n",
       "      <td>0.733939</td>\n",
       "      <td>0.902869</td>\n",
       "      <td>-0.541961</td>\n",
       "      <td>-0.380580</td>\n",
       "      <td>0.234783</td>\n",
       "      <td>0.744117</td>\n",
       "      <td>0.000771</td>\n",
       "      <td>0.130788</td>\n",
       "      <td>0.418513</td>\n",
       "      <td>0</td>\n",
       "      <td>0</td>\n",
       "    </tr>\n",
       "    <tr>\n",
       "      <th>2</th>\n",
       "      <td>0.477137</td>\n",
       "      <td>0.733939</td>\n",
       "      <td>-0.809243</td>\n",
       "      <td>-0.541961</td>\n",
       "      <td>2.627567</td>\n",
       "      <td>-0.527201</td>\n",
       "      <td>-1.122446</td>\n",
       "      <td>-1.437336</td>\n",
       "      <td>0.130788</td>\n",
       "      <td>0.418513</td>\n",
       "      <td>2</td>\n",
       "      <td>1</td>\n",
       "    </tr>\n",
       "    <tr>\n",
       "      <th>3</th>\n",
       "      <td>0.477137</td>\n",
       "      <td>0.733939</td>\n",
       "      <td>-0.809243</td>\n",
       "      <td>1.845150</td>\n",
       "      <td>-0.380580</td>\n",
       "      <td>-0.791972</td>\n",
       "      <td>0.895786</td>\n",
       "      <td>-0.153545</td>\n",
       "      <td>0.130788</td>\n",
       "      <td>0.418513</td>\n",
       "      <td>2</td>\n",
       "      <td>1</td>\n",
       "    </tr>\n",
       "    <tr>\n",
       "      <th>4</th>\n",
       "      <td>0.477137</td>\n",
       "      <td>-1.362511</td>\n",
       "      <td>-0.809243</td>\n",
       "      <td>-0.541961</td>\n",
       "      <td>-0.380580</td>\n",
       "      <td>0.728848</td>\n",
       "      <td>-1.122446</td>\n",
       "      <td>0.238260</td>\n",
       "      <td>0.130788</td>\n",
       "      <td>0.418513</td>\n",
       "      <td>2</td>\n",
       "      <td>1</td>\n",
       "    </tr>\n",
       "    <tr>\n",
       "      <th>...</th>\n",
       "      <td>...</td>\n",
       "      <td>...</td>\n",
       "      <td>...</td>\n",
       "      <td>...</td>\n",
       "      <td>...</td>\n",
       "      <td>...</td>\n",
       "      <td>...</td>\n",
       "      <td>...</td>\n",
       "      <td>...</td>\n",
       "      <td>...</td>\n",
       "      <td>...</td>\n",
       "      <td>...</td>\n",
       "    </tr>\n",
       "    <tr>\n",
       "      <th>609</th>\n",
       "      <td>-2.095835</td>\n",
       "      <td>-1.362511</td>\n",
       "      <td>-0.809243</td>\n",
       "      <td>-0.541961</td>\n",
       "      <td>-0.380580</td>\n",
       "      <td>-0.587375</td>\n",
       "      <td>-1.122446</td>\n",
       "      <td>-1.293791</td>\n",
       "      <td>0.130788</td>\n",
       "      <td>0.418513</td>\n",
       "      <td>0</td>\n",
       "      <td>1</td>\n",
       "    </tr>\n",
       "    <tr>\n",
       "      <th>610</th>\n",
       "      <td>0.477137</td>\n",
       "      <td>0.733939</td>\n",
       "      <td>1.533596</td>\n",
       "      <td>-0.541961</td>\n",
       "      <td>-0.380580</td>\n",
       "      <td>0.035386</td>\n",
       "      <td>-1.122446</td>\n",
       "      <td>-2.332692</td>\n",
       "      <td>-2.562700</td>\n",
       "      <td>0.418513</td>\n",
       "      <td>0</td>\n",
       "      <td>1</td>\n",
       "    </tr>\n",
       "    <tr>\n",
       "      <th>611</th>\n",
       "      <td>0.477137</td>\n",
       "      <td>0.733939</td>\n",
       "      <td>0.902869</td>\n",
       "      <td>-0.541961</td>\n",
       "      <td>-0.380580</td>\n",
       "      <td>1.281658</td>\n",
       "      <td>0.173344</td>\n",
       "      <td>1.845015</td>\n",
       "      <td>0.130788</td>\n",
       "      <td>0.418513</td>\n",
       "      <td>2</td>\n",
       "      <td>1</td>\n",
       "    </tr>\n",
       "    <tr>\n",
       "      <th>612</th>\n",
       "      <td>0.477137</td>\n",
       "      <td>0.733939</td>\n",
       "      <td>1.344671</td>\n",
       "      <td>-0.541961</td>\n",
       "      <td>-0.380580</td>\n",
       "      <td>1.164426</td>\n",
       "      <td>-1.122446</td>\n",
       "      <td>0.976055</td>\n",
       "      <td>0.130788</td>\n",
       "      <td>0.418513</td>\n",
       "      <td>2</td>\n",
       "      <td>1</td>\n",
       "    </tr>\n",
       "    <tr>\n",
       "      <th>613</th>\n",
       "      <td>-2.095835</td>\n",
       "      <td>-1.362511</td>\n",
       "      <td>-0.809243</td>\n",
       "      <td>-0.541961</td>\n",
       "      <td>2.627567</td>\n",
       "      <td>0.234783</td>\n",
       "      <td>-1.122446</td>\n",
       "      <td>0.093952</td>\n",
       "      <td>0.130788</td>\n",
       "      <td>-2.389415</td>\n",
       "      <td>1</td>\n",
       "      <td>0</td>\n",
       "    </tr>\n",
       "  </tbody>\n",
       "</table>\n",
       "<p>577 rows × 12 columns</p>\n",
       "</div>"
      ],
      "text/plain": [
       "       Gender   Married  Dependents  Education  Self_Employed  \\\n",
       "0    0.477137 -1.362511   -0.809243  -0.541961      -0.380580   \n",
       "1    0.477137  0.733939    0.902869  -0.541961      -0.380580   \n",
       "2    0.477137  0.733939   -0.809243  -0.541961       2.627567   \n",
       "3    0.477137  0.733939   -0.809243   1.845150      -0.380580   \n",
       "4    0.477137 -1.362511   -0.809243  -0.541961      -0.380580   \n",
       "..        ...       ...         ...        ...            ...   \n",
       "609 -2.095835 -1.362511   -0.809243  -0.541961      -0.380580   \n",
       "610  0.477137  0.733939    1.533596  -0.541961      -0.380580   \n",
       "611  0.477137  0.733939    0.902869  -0.541961      -0.380580   \n",
       "612  0.477137  0.733939    1.344671  -0.541961      -0.380580   \n",
       "613 -2.095835 -1.362511   -0.809243  -0.541961       2.627567   \n",
       "\n",
       "     ApplicantIncome  CoapplicantIncome  LoanAmount  Loan_Amount_Term  \\\n",
       "0           0.681780          -1.122446    0.000771          0.130788   \n",
       "1           0.234783           0.744117    0.000771          0.130788   \n",
       "2          -0.527201          -1.122446   -1.437336          0.130788   \n",
       "3          -0.791972           0.895786   -0.153545          0.130788   \n",
       "4           0.728848          -1.122446    0.238260          0.130788   \n",
       "..               ...                ...         ...               ...   \n",
       "609        -0.587375          -1.122446   -1.293791          0.130788   \n",
       "610         0.035386          -1.122446   -2.332692         -2.562700   \n",
       "611         1.281658           0.173344    1.845015          0.130788   \n",
       "612         1.164426          -1.122446    0.976055          0.130788   \n",
       "613         0.234783          -1.122446    0.093952          0.130788   \n",
       "\n",
       "     Credit_History  Property_Area  Loan_Status  \n",
       "0          0.418513              2            1  \n",
       "1          0.418513              0            0  \n",
       "2          0.418513              2            1  \n",
       "3          0.418513              2            1  \n",
       "4          0.418513              2            1  \n",
       "..              ...            ...          ...  \n",
       "609        0.418513              0            1  \n",
       "610        0.418513              0            1  \n",
       "611        0.418513              2            1  \n",
       "612        0.418513              2            1  \n",
       "613       -2.389415              1            0  \n",
       "\n",
       "[577 rows x 12 columns]"
      ]
     },
     "execution_count": 67,
     "metadata": {},
     "output_type": "execute_result"
    }
   ],
   "source": [
    "new_df"
   ]
  },
  {
   "cell_type": "markdown",
   "id": "9feb1518",
   "metadata": {},
   "source": [
    "Skewness is removed."
   ]
  },
  {
   "cell_type": "markdown",
   "id": "fc93dfcc",
   "metadata": {},
   "source": [
    "## Correlation"
   ]
  },
  {
   "cell_type": "code",
   "execution_count": 68,
   "id": "da0ce879",
   "metadata": {},
   "outputs": [
    {
     "data": {
      "text/html": [
       "<div>\n",
       "<style scoped>\n",
       "    .dataframe tbody tr th:only-of-type {\n",
       "        vertical-align: middle;\n",
       "    }\n",
       "\n",
       "    .dataframe tbody tr th {\n",
       "        vertical-align: top;\n",
       "    }\n",
       "\n",
       "    .dataframe thead th {\n",
       "        text-align: right;\n",
       "    }\n",
       "</style>\n",
       "<table border=\"1\" class=\"dataframe\">\n",
       "  <thead>\n",
       "    <tr style=\"text-align: right;\">\n",
       "      <th></th>\n",
       "      <th>Gender</th>\n",
       "      <th>Married</th>\n",
       "      <th>Dependents</th>\n",
       "      <th>Education</th>\n",
       "      <th>Self_Employed</th>\n",
       "      <th>ApplicantIncome</th>\n",
       "      <th>CoapplicantIncome</th>\n",
       "      <th>LoanAmount</th>\n",
       "      <th>Loan_Amount_Term</th>\n",
       "      <th>Credit_History</th>\n",
       "      <th>Property_Area</th>\n",
       "      <th>Loan_Status</th>\n",
       "    </tr>\n",
       "  </thead>\n",
       "  <tbody>\n",
       "    <tr>\n",
       "      <th>Gender</th>\n",
       "      <td>1.000000</td>\n",
       "      <td>0.378997</td>\n",
       "      <td>0.183471</td>\n",
       "      <td>0.045696</td>\n",
       "      <td>-0.006207</td>\n",
       "      <td>0.058590</td>\n",
       "      <td>0.234551</td>\n",
       "      <td>0.172146</td>\n",
       "      <td>-0.098370</td>\n",
       "      <td>0.013172</td>\n",
       "      <td>-0.026340</td>\n",
       "      <td>0.017408</td>\n",
       "    </tr>\n",
       "    <tr>\n",
       "      <th>Married</th>\n",
       "      <td>0.378997</td>\n",
       "      <td>1.000000</td>\n",
       "      <td>0.349618</td>\n",
       "      <td>0.024817</td>\n",
       "      <td>-0.015779</td>\n",
       "      <td>-0.024783</td>\n",
       "      <td>0.335820</td>\n",
       "      <td>0.181878</td>\n",
       "      <td>-0.128399</td>\n",
       "      <td>0.019308</td>\n",
       "      <td>0.010595</td>\n",
       "      <td>0.089026</td>\n",
       "    </tr>\n",
       "    <tr>\n",
       "      <th>Dependents</th>\n",
       "      <td>0.183471</td>\n",
       "      <td>0.349618</td>\n",
       "      <td>1.000000</td>\n",
       "      <td>0.059728</td>\n",
       "      <td>0.069648</td>\n",
       "      <td>0.108178</td>\n",
       "      <td>0.023606</td>\n",
       "      <td>0.135297</td>\n",
       "      <td>-0.095181</td>\n",
       "      <td>-0.015924</td>\n",
       "      <td>0.040716</td>\n",
       "      <td>0.018517</td>\n",
       "    </tr>\n",
       "    <tr>\n",
       "      <th>Education</th>\n",
       "      <td>0.045696</td>\n",
       "      <td>0.024817</td>\n",
       "      <td>0.059728</td>\n",
       "      <td>1.000000</td>\n",
       "      <td>-0.007139</td>\n",
       "      <td>-0.176074</td>\n",
       "      <td>0.049739</td>\n",
       "      <td>-0.128715</td>\n",
       "      <td>-0.062494</td>\n",
       "      <td>-0.075217</td>\n",
       "      <td>-0.068596</td>\n",
       "      <td>-0.092658</td>\n",
       "    </tr>\n",
       "    <tr>\n",
       "      <th>Self_Employed</th>\n",
       "      <td>-0.006207</td>\n",
       "      <td>-0.015779</td>\n",
       "      <td>0.069648</td>\n",
       "      <td>-0.007139</td>\n",
       "      <td>1.000000</td>\n",
       "      <td>0.212260</td>\n",
       "      <td>-0.087338</td>\n",
       "      <td>0.117218</td>\n",
       "      <td>-0.052033</td>\n",
       "      <td>-0.016390</td>\n",
       "      <td>-0.028253</td>\n",
       "      <td>-0.026525</td>\n",
       "    </tr>\n",
       "    <tr>\n",
       "      <th>ApplicantIncome</th>\n",
       "      <td>0.058590</td>\n",
       "      <td>-0.024783</td>\n",
       "      <td>0.108178</td>\n",
       "      <td>-0.176074</td>\n",
       "      <td>0.212260</td>\n",
       "      <td>1.000000</td>\n",
       "      <td>-0.360946</td>\n",
       "      <td>0.432154</td>\n",
       "      <td>-0.089402</td>\n",
       "      <td>0.028825</td>\n",
       "      <td>-0.011364</td>\n",
       "      <td>-0.002484</td>\n",
       "    </tr>\n",
       "    <tr>\n",
       "      <th>CoapplicantIncome</th>\n",
       "      <td>0.234551</td>\n",
       "      <td>0.335820</td>\n",
       "      <td>0.023606</td>\n",
       "      <td>0.049739</td>\n",
       "      <td>-0.087338</td>\n",
       "      <td>-0.360946</td>\n",
       "      <td>1.000000</td>\n",
       "      <td>0.200081</td>\n",
       "      <td>-0.000281</td>\n",
       "      <td>0.006564</td>\n",
       "      <td>-0.074476</td>\n",
       "      <td>0.079344</td>\n",
       "    </tr>\n",
       "    <tr>\n",
       "      <th>LoanAmount</th>\n",
       "      <td>0.172146</td>\n",
       "      <td>0.181878</td>\n",
       "      <td>0.135297</td>\n",
       "      <td>-0.128715</td>\n",
       "      <td>0.117218</td>\n",
       "      <td>0.432154</td>\n",
       "      <td>0.200081</td>\n",
       "      <td>1.000000</td>\n",
       "      <td>0.021702</td>\n",
       "      <td>-0.003626</td>\n",
       "      <td>-0.098090</td>\n",
       "      <td>-0.023609</td>\n",
       "    </tr>\n",
       "    <tr>\n",
       "      <th>Loan_Amount_Term</th>\n",
       "      <td>-0.098370</td>\n",
       "      <td>-0.128399</td>\n",
       "      <td>-0.095181</td>\n",
       "      <td>-0.062494</td>\n",
       "      <td>-0.052033</td>\n",
       "      <td>-0.089402</td>\n",
       "      <td>-0.000281</td>\n",
       "      <td>0.021702</td>\n",
       "      <td>1.000000</td>\n",
       "      <td>-0.000146</td>\n",
       "      <td>-0.029931</td>\n",
       "      <td>-0.056610</td>\n",
       "    </tr>\n",
       "    <tr>\n",
       "      <th>Credit_History</th>\n",
       "      <td>0.013172</td>\n",
       "      <td>0.019308</td>\n",
       "      <td>-0.015924</td>\n",
       "      <td>-0.075217</td>\n",
       "      <td>-0.016390</td>\n",
       "      <td>0.028825</td>\n",
       "      <td>0.006564</td>\n",
       "      <td>-0.003626</td>\n",
       "      <td>-0.000146</td>\n",
       "      <td>1.000000</td>\n",
       "      <td>-0.008121</td>\n",
       "      <td>0.560936</td>\n",
       "    </tr>\n",
       "    <tr>\n",
       "      <th>Property_Area</th>\n",
       "      <td>-0.026340</td>\n",
       "      <td>0.010595</td>\n",
       "      <td>0.040716</td>\n",
       "      <td>-0.068596</td>\n",
       "      <td>-0.028253</td>\n",
       "      <td>-0.011364</td>\n",
       "      <td>-0.074476</td>\n",
       "      <td>-0.098090</td>\n",
       "      <td>-0.029931</td>\n",
       "      <td>-0.008121</td>\n",
       "      <td>1.000000</td>\n",
       "      <td>0.026507</td>\n",
       "    </tr>\n",
       "    <tr>\n",
       "      <th>Loan_Status</th>\n",
       "      <td>0.017408</td>\n",
       "      <td>0.089026</td>\n",
       "      <td>0.018517</td>\n",
       "      <td>-0.092658</td>\n",
       "      <td>-0.026525</td>\n",
       "      <td>-0.002484</td>\n",
       "      <td>0.079344</td>\n",
       "      <td>-0.023609</td>\n",
       "      <td>-0.056610</td>\n",
       "      <td>0.560936</td>\n",
       "      <td>0.026507</td>\n",
       "      <td>1.000000</td>\n",
       "    </tr>\n",
       "  </tbody>\n",
       "</table>\n",
       "</div>"
      ],
      "text/plain": [
       "                     Gender   Married  Dependents  Education  Self_Employed  \\\n",
       "Gender             1.000000  0.378997    0.183471   0.045696      -0.006207   \n",
       "Married            0.378997  1.000000    0.349618   0.024817      -0.015779   \n",
       "Dependents         0.183471  0.349618    1.000000   0.059728       0.069648   \n",
       "Education          0.045696  0.024817    0.059728   1.000000      -0.007139   \n",
       "Self_Employed     -0.006207 -0.015779    0.069648  -0.007139       1.000000   \n",
       "ApplicantIncome    0.058590 -0.024783    0.108178  -0.176074       0.212260   \n",
       "CoapplicantIncome  0.234551  0.335820    0.023606   0.049739      -0.087338   \n",
       "LoanAmount         0.172146  0.181878    0.135297  -0.128715       0.117218   \n",
       "Loan_Amount_Term  -0.098370 -0.128399   -0.095181  -0.062494      -0.052033   \n",
       "Credit_History     0.013172  0.019308   -0.015924  -0.075217      -0.016390   \n",
       "Property_Area     -0.026340  0.010595    0.040716  -0.068596      -0.028253   \n",
       "Loan_Status        0.017408  0.089026    0.018517  -0.092658      -0.026525   \n",
       "\n",
       "                   ApplicantIncome  CoapplicantIncome  LoanAmount  \\\n",
       "Gender                    0.058590           0.234551    0.172146   \n",
       "Married                  -0.024783           0.335820    0.181878   \n",
       "Dependents                0.108178           0.023606    0.135297   \n",
       "Education                -0.176074           0.049739   -0.128715   \n",
       "Self_Employed             0.212260          -0.087338    0.117218   \n",
       "ApplicantIncome           1.000000          -0.360946    0.432154   \n",
       "CoapplicantIncome        -0.360946           1.000000    0.200081   \n",
       "LoanAmount                0.432154           0.200081    1.000000   \n",
       "Loan_Amount_Term         -0.089402          -0.000281    0.021702   \n",
       "Credit_History            0.028825           0.006564   -0.003626   \n",
       "Property_Area            -0.011364          -0.074476   -0.098090   \n",
       "Loan_Status              -0.002484           0.079344   -0.023609   \n",
       "\n",
       "                   Loan_Amount_Term  Credit_History  Property_Area  \\\n",
       "Gender                    -0.098370        0.013172      -0.026340   \n",
       "Married                   -0.128399        0.019308       0.010595   \n",
       "Dependents                -0.095181       -0.015924       0.040716   \n",
       "Education                 -0.062494       -0.075217      -0.068596   \n",
       "Self_Employed             -0.052033       -0.016390      -0.028253   \n",
       "ApplicantIncome           -0.089402        0.028825      -0.011364   \n",
       "CoapplicantIncome         -0.000281        0.006564      -0.074476   \n",
       "LoanAmount                 0.021702       -0.003626      -0.098090   \n",
       "Loan_Amount_Term           1.000000       -0.000146      -0.029931   \n",
       "Credit_History            -0.000146        1.000000      -0.008121   \n",
       "Property_Area             -0.029931       -0.008121       1.000000   \n",
       "Loan_Status               -0.056610        0.560936       0.026507   \n",
       "\n",
       "                   Loan_Status  \n",
       "Gender                0.017408  \n",
       "Married               0.089026  \n",
       "Dependents            0.018517  \n",
       "Education            -0.092658  \n",
       "Self_Employed        -0.026525  \n",
       "ApplicantIncome      -0.002484  \n",
       "CoapplicantIncome     0.079344  \n",
       "LoanAmount           -0.023609  \n",
       "Loan_Amount_Term     -0.056610  \n",
       "Credit_History        0.560936  \n",
       "Property_Area         0.026507  \n",
       "Loan_Status           1.000000  "
      ]
     },
     "execution_count": 68,
     "metadata": {},
     "output_type": "execute_result"
    }
   ],
   "source": [
    "new_df.corr()"
   ]
  },
  {
   "cell_type": "code",
   "execution_count": 69,
   "id": "6f52a2b1",
   "metadata": {},
   "outputs": [
    {
     "data": {
      "text/plain": [
       "Loan_Status          1.000000\n",
       "Credit_History       0.560936\n",
       "Married              0.089026\n",
       "CoapplicantIncome    0.079344\n",
       "Property_Area        0.026507\n",
       "Dependents           0.018517\n",
       "Gender               0.017408\n",
       "ApplicantIncome     -0.002484\n",
       "LoanAmount          -0.023609\n",
       "Self_Employed       -0.026525\n",
       "Loan_Amount_Term    -0.056610\n",
       "Education           -0.092658\n",
       "Name: Loan_Status, dtype: float64"
      ]
     },
     "execution_count": 69,
     "metadata": {},
     "output_type": "execute_result"
    }
   ],
   "source": [
    "new_df.corr()['Loan_Status'].sort_values(ascending=False)"
   ]
  },
  {
   "cell_type": "code",
   "execution_count": 70,
   "id": "17672cad",
   "metadata": {},
   "outputs": [
    {
     "data": {
      "text/plain": [
       "<AxesSubplot:>"
      ]
     },
     "execution_count": 70,
     "metadata": {},
     "output_type": "execute_result"
    },
    {
     "data": {
      "image/png": "[encoded data removed]",
      "text/plain": [
       "<Figure size 1080x504 with 2 Axes>"
      ]
     },
     "metadata": {},
     "output_type": "display_data"
    }
   ],
   "source": [
    "# Visualizing df_new_la.corr() using heatmap\n",
    "plt.figure(figsize=(15,7))\n",
    "sns.heatmap(new_df.corr(),annot=True,linewidths=0.1,linecolor=\"black\",fmt=\".2f\")"
   ]
  },
  {
   "cell_type": "markdown",
   "id": "673cb936",
   "metadata": {},
   "source": [
    "From the above correlation heatmap, we see that Credit_History is highly positively correlated with our target variable Loan_Status. Also there is high positive correlation between LoanAmount & ApplicantIncome,Gender & Married, and Dependents & Married.\n",
    "\n",
    "There is very less correlation between ApplicantIncome,LoanAmount,Loan_Amount_Term,Dependents & Gender with our target variable Loan_Status."
   ]
  },
  {
   "cell_type": "code",
   "execution_count": 71,
   "id": "a160aea4",
   "metadata": {},
   "outputs": [
    {
     "data": {
      "image/png": "[encoded data removed]",
      "text/plain": [
       "<Figure size 1440x504 with 1 Axes>"
      ]
     },
     "metadata": {},
     "output_type": "display_data"
    }
   ],
   "source": [
    "plt.figure(figsize=(20,7))\n",
    "new_df.corr()['Loan_Status'].sort_values(ascending=False).drop(['Loan_Status']).plot(kind='bar',color='c')\n",
    "plt.xlabel('Features',fontsize=12)\n",
    "plt.ylabel('Column with target names',fontsize=12)\n",
    "plt.title('Correlation',fontsize=16)\n",
    "plt.show()\n"
   ]
  },
  {
   "cell_type": "markdown",
   "id": "c563032c",
   "metadata": {},
   "source": [
    "## Model Building"
   ]
  },
  {
   "cell_type": "code",
   "execution_count": 72,
   "id": "7a0ade8f",
   "metadata": {},
   "outputs": [],
   "source": [
    "x = new_df.drop(\"Loan_Status\",axis=1)\n",
    "y = new_df[\"Loan_Status\"]"
   ]
  },
  {
   "cell_type": "code",
   "execution_count": 73,
   "id": "4e47df0c",
   "metadata": {},
   "outputs": [
    {
     "data": {
      "text/plain": [
       "(577, 11)"
      ]
     },
     "execution_count": 73,
     "metadata": {},
     "output_type": "execute_result"
    }
   ],
   "source": [
    "x.shape"
   ]
  },
  {
   "cell_type": "code",
   "execution_count": 74,
   "id": "49e30144",
   "metadata": {},
   "outputs": [
    {
     "data": {
      "text/plain": [
       "(577,)"
      ]
     },
     "execution_count": 74,
     "metadata": {},
     "output_type": "execute_result"
    }
   ],
   "source": [
    "y.shape"
   ]
  },
  {
   "cell_type": "markdown",
   "id": "aaa80392",
   "metadata": {},
   "source": [
    "# VIF"
   ]
  },
  {
   "cell_type": "code",
   "execution_count": 75,
   "id": "8cbc13ae",
   "metadata": {},
   "outputs": [
    {
     "data": {
      "text/html": [
       "<div>\n",
       "<style scoped>\n",
       "    .dataframe tbody tr th:only-of-type {\n",
       "        vertical-align: middle;\n",
       "    }\n",
       "\n",
       "    .dataframe tbody tr th {\n",
       "        vertical-align: top;\n",
       "    }\n",
       "\n",
       "    .dataframe thead th {\n",
       "        text-align: right;\n",
       "    }\n",
       "</style>\n",
       "<table border=\"1\" class=\"dataframe\">\n",
       "  <thead>\n",
       "    <tr style=\"text-align: right;\">\n",
       "      <th></th>\n",
       "      <th>Features</th>\n",
       "      <th>VIF</th>\n",
       "    </tr>\n",
       "  </thead>\n",
       "  <tbody>\n",
       "    <tr>\n",
       "      <th>0</th>\n",
       "      <td>Gender</td>\n",
       "      <td>1.218854</td>\n",
       "    </tr>\n",
       "    <tr>\n",
       "      <th>1</th>\n",
       "      <td>Married</td>\n",
       "      <td>1.431827</td>\n",
       "    </tr>\n",
       "    <tr>\n",
       "      <th>2</th>\n",
       "      <td>Dependents</td>\n",
       "      <td>1.183025</td>\n",
       "    </tr>\n",
       "    <tr>\n",
       "      <th>3</th>\n",
       "      <td>Education</td>\n",
       "      <td>1.060268</td>\n",
       "    </tr>\n",
       "    <tr>\n",
       "      <th>4</th>\n",
       "      <td>Self_Employed</td>\n",
       "      <td>1.055256</td>\n",
       "    </tr>\n",
       "    <tr>\n",
       "      <th>5</th>\n",
       "      <td>ApplicantIncome</td>\n",
       "      <td>1.763362</td>\n",
       "    </tr>\n",
       "    <tr>\n",
       "      <th>6</th>\n",
       "      <td>CoapplicantIncome</td>\n",
       "      <td>1.579512</td>\n",
       "    </tr>\n",
       "    <tr>\n",
       "      <th>7</th>\n",
       "      <td>LoanAmount</td>\n",
       "      <td>1.543185</td>\n",
       "    </tr>\n",
       "    <tr>\n",
       "      <th>8</th>\n",
       "      <td>Loan_Amount_Term</td>\n",
       "      <td>1.047798</td>\n",
       "    </tr>\n",
       "    <tr>\n",
       "      <th>9</th>\n",
       "      <td>Credit_History</td>\n",
       "      <td>1.008568</td>\n",
       "    </tr>\n",
       "    <tr>\n",
       "      <th>10</th>\n",
       "      <td>Property_Area</td>\n",
       "      <td>1.009384</td>\n",
       "    </tr>\n",
       "  </tbody>\n",
       "</table>\n",
       "</div>"
      ],
      "text/plain": [
       "             Features       VIF\n",
       "0              Gender  1.218854\n",
       "1             Married  1.431827\n",
       "2          Dependents  1.183025\n",
       "3           Education  1.060268\n",
       "4       Self_Employed  1.055256\n",
       "5     ApplicantIncome  1.763362\n",
       "6   CoapplicantIncome  1.579512\n",
       "7          LoanAmount  1.543185\n",
       "8    Loan_Amount_Term  1.047798\n",
       "9      Credit_History  1.008568\n",
       "10      Property_Area  1.009384"
      ]
     },
     "execution_count": 75,
     "metadata": {},
     "output_type": "execute_result"
    }
   ],
   "source": [
    "from statsmodels.stats.outliers_influence import variance_inflation_factor\n",
    "vif=pd.DataFrame()\n",
    "vif[\"Features\"]=x.columns\n",
    "vif[\"VIF\"]=[variance_inflation_factor(x.values, i) for i in range(x.shape[1])]\n",
    "vif"
   ]
  },
  {
   "cell_type": "markdown",
   "id": "0b33ae57",
   "metadata": {},
   "source": [
    "The Multi-collinearaity of all columns is good.\n",
    "\n",
    "## Scaling"
   ]
  },
  {
   "cell_type": "code",
   "execution_count": 76,
   "id": "3d0fd100",
   "metadata": {},
   "outputs": [
    {
     "data": {
      "text/html": [
       "<div>\n",
       "<style scoped>\n",
       "    .dataframe tbody tr th:only-of-type {\n",
       "        vertical-align: middle;\n",
       "    }\n",
       "\n",
       "    .dataframe tbody tr th {\n",
       "        vertical-align: top;\n",
       "    }\n",
       "\n",
       "    .dataframe thead th {\n",
       "        text-align: right;\n",
       "    }\n",
       "</style>\n",
       "<table border=\"1\" class=\"dataframe\">\n",
       "  <thead>\n",
       "    <tr style=\"text-align: right;\">\n",
       "      <th></th>\n",
       "      <th>Gender</th>\n",
       "      <th>Married</th>\n",
       "      <th>Dependents</th>\n",
       "      <th>Education</th>\n",
       "      <th>Self_Employed</th>\n",
       "      <th>ApplicantIncome</th>\n",
       "      <th>CoapplicantIncome</th>\n",
       "      <th>LoanAmount</th>\n",
       "      <th>Loan_Amount_Term</th>\n",
       "      <th>Credit_History</th>\n",
       "      <th>Property_Area</th>\n",
       "    </tr>\n",
       "  </thead>\n",
       "  <tbody>\n",
       "    <tr>\n",
       "      <th>0</th>\n",
       "      <td>0.477137</td>\n",
       "      <td>-1.362511</td>\n",
       "      <td>-0.809243</td>\n",
       "      <td>-0.541961</td>\n",
       "      <td>-0.380580</td>\n",
       "      <td>0.681780</td>\n",
       "      <td>-1.122446</td>\n",
       "      <td>0.000771</td>\n",
       "      <td>0.130788</td>\n",
       "      <td>0.418513</td>\n",
       "      <td>1.227472</td>\n",
       "    </tr>\n",
       "    <tr>\n",
       "      <th>1</th>\n",
       "      <td>0.477137</td>\n",
       "      <td>0.733939</td>\n",
       "      <td>0.902869</td>\n",
       "      <td>-0.541961</td>\n",
       "      <td>-0.380580</td>\n",
       "      <td>0.234783</td>\n",
       "      <td>0.744117</td>\n",
       "      <td>0.000771</td>\n",
       "      <td>0.130788</td>\n",
       "      <td>0.418513</td>\n",
       "      <td>-1.306522</td>\n",
       "    </tr>\n",
       "    <tr>\n",
       "      <th>2</th>\n",
       "      <td>0.477137</td>\n",
       "      <td>0.733939</td>\n",
       "      <td>-0.809243</td>\n",
       "      <td>-0.541961</td>\n",
       "      <td>2.627567</td>\n",
       "      <td>-0.527201</td>\n",
       "      <td>-1.122446</td>\n",
       "      <td>-1.437336</td>\n",
       "      <td>0.130788</td>\n",
       "      <td>0.418513</td>\n",
       "      <td>1.227472</td>\n",
       "    </tr>\n",
       "    <tr>\n",
       "      <th>3</th>\n",
       "      <td>0.477137</td>\n",
       "      <td>0.733939</td>\n",
       "      <td>-0.809243</td>\n",
       "      <td>1.845150</td>\n",
       "      <td>-0.380580</td>\n",
       "      <td>-0.791972</td>\n",
       "      <td>0.895786</td>\n",
       "      <td>-0.153545</td>\n",
       "      <td>0.130788</td>\n",
       "      <td>0.418513</td>\n",
       "      <td>1.227472</td>\n",
       "    </tr>\n",
       "    <tr>\n",
       "      <th>4</th>\n",
       "      <td>0.477137</td>\n",
       "      <td>-1.362511</td>\n",
       "      <td>-0.809243</td>\n",
       "      <td>-0.541961</td>\n",
       "      <td>-0.380580</td>\n",
       "      <td>0.728848</td>\n",
       "      <td>-1.122446</td>\n",
       "      <td>0.238260</td>\n",
       "      <td>0.130788</td>\n",
       "      <td>0.418513</td>\n",
       "      <td>1.227472</td>\n",
       "    </tr>\n",
       "    <tr>\n",
       "      <th>...</th>\n",
       "      <td>...</td>\n",
       "      <td>...</td>\n",
       "      <td>...</td>\n",
       "      <td>...</td>\n",
       "      <td>...</td>\n",
       "      <td>...</td>\n",
       "      <td>...</td>\n",
       "      <td>...</td>\n",
       "      <td>...</td>\n",
       "      <td>...</td>\n",
       "      <td>...</td>\n",
       "    </tr>\n",
       "    <tr>\n",
       "      <th>572</th>\n",
       "      <td>-2.095835</td>\n",
       "      <td>-1.362511</td>\n",
       "      <td>-0.809243</td>\n",
       "      <td>-0.541961</td>\n",
       "      <td>-0.380580</td>\n",
       "      <td>-0.587375</td>\n",
       "      <td>-1.122446</td>\n",
       "      <td>-1.293791</td>\n",
       "      <td>0.130788</td>\n",
       "      <td>0.418513</td>\n",
       "      <td>-1.306522</td>\n",
       "    </tr>\n",
       "    <tr>\n",
       "      <th>573</th>\n",
       "      <td>0.477137</td>\n",
       "      <td>0.733939</td>\n",
       "      <td>1.533596</td>\n",
       "      <td>-0.541961</td>\n",
       "      <td>-0.380580</td>\n",
       "      <td>0.035386</td>\n",
       "      <td>-1.122446</td>\n",
       "      <td>-2.332692</td>\n",
       "      <td>-2.562700</td>\n",
       "      <td>0.418513</td>\n",
       "      <td>-1.306522</td>\n",
       "    </tr>\n",
       "    <tr>\n",
       "      <th>574</th>\n",
       "      <td>0.477137</td>\n",
       "      <td>0.733939</td>\n",
       "      <td>0.902869</td>\n",
       "      <td>-0.541961</td>\n",
       "      <td>-0.380580</td>\n",
       "      <td>1.281658</td>\n",
       "      <td>0.173344</td>\n",
       "      <td>1.845015</td>\n",
       "      <td>0.130788</td>\n",
       "      <td>0.418513</td>\n",
       "      <td>1.227472</td>\n",
       "    </tr>\n",
       "    <tr>\n",
       "      <th>575</th>\n",
       "      <td>0.477137</td>\n",
       "      <td>0.733939</td>\n",
       "      <td>1.344671</td>\n",
       "      <td>-0.541961</td>\n",
       "      <td>-0.380580</td>\n",
       "      <td>1.164426</td>\n",
       "      <td>-1.122446</td>\n",
       "      <td>0.976055</td>\n",
       "      <td>0.130788</td>\n",
       "      <td>0.418513</td>\n",
       "      <td>1.227472</td>\n",
       "    </tr>\n",
       "    <tr>\n",
       "      <th>576</th>\n",
       "      <td>-2.095835</td>\n",
       "      <td>-1.362511</td>\n",
       "      <td>-0.809243</td>\n",
       "      <td>-0.541961</td>\n",
       "      <td>2.627567</td>\n",
       "      <td>0.234783</td>\n",
       "      <td>-1.122446</td>\n",
       "      <td>0.093952</td>\n",
       "      <td>0.130788</td>\n",
       "      <td>-2.389415</td>\n",
       "      <td>-0.039525</td>\n",
       "    </tr>\n",
       "  </tbody>\n",
       "</table>\n",
       "<p>577 rows × 11 columns</p>\n",
       "</div>"
      ],
      "text/plain": [
       "       Gender   Married  Dependents  Education  Self_Employed  \\\n",
       "0    0.477137 -1.362511   -0.809243  -0.541961      -0.380580   \n",
       "1    0.477137  0.733939    0.902869  -0.541961      -0.380580   \n",
       "2    0.477137  0.733939   -0.809243  -0.541961       2.627567   \n",
       "3    0.477137  0.733939   -0.809243   1.845150      -0.380580   \n",
       "4    0.477137 -1.362511   -0.809243  -0.541961      -0.380580   \n",
       "..        ...       ...         ...        ...            ...   \n",
       "572 -2.095835 -1.362511   -0.809243  -0.541961      -0.380580   \n",
       "573  0.477137  0.733939    1.533596  -0.541961      -0.380580   \n",
       "574  0.477137  0.733939    0.902869  -0.541961      -0.380580   \n",
       "575  0.477137  0.733939    1.344671  -0.541961      -0.380580   \n",
       "576 -2.095835 -1.362511   -0.809243  -0.541961       2.627567   \n",
       "\n",
       "     ApplicantIncome  CoapplicantIncome  LoanAmount  Loan_Amount_Term  \\\n",
       "0           0.681780          -1.122446    0.000771          0.130788   \n",
       "1           0.234783           0.744117    0.000771          0.130788   \n",
       "2          -0.527201          -1.122446   -1.437336          0.130788   \n",
       "3          -0.791972           0.895786   -0.153545          0.130788   \n",
       "4           0.728848          -1.122446    0.238260          0.130788   \n",
       "..               ...                ...         ...               ...   \n",
       "572        -0.587375          -1.122446   -1.293791          0.130788   \n",
       "573         0.035386          -1.122446   -2.332692         -2.562700   \n",
       "574         1.281658           0.173344    1.845015          0.130788   \n",
       "575         1.164426          -1.122446    0.976055          0.130788   \n",
       "576         0.234783          -1.122446    0.093952          0.130788   \n",
       "\n",
       "     Credit_History  Property_Area  \n",
       "0          0.418513       1.227472  \n",
       "1          0.418513      -1.306522  \n",
       "2          0.418513       1.227472  \n",
       "3          0.418513       1.227472  \n",
       "4          0.418513       1.227472  \n",
       "..              ...            ...  \n",
       "572        0.418513      -1.306522  \n",
       "573        0.418513      -1.306522  \n",
       "574        0.418513       1.227472  \n",
       "575        0.418513       1.227472  \n",
       "576       -2.389415      -0.039525  \n",
       "\n",
       "[577 rows x 11 columns]"
      ]
     },
     "execution_count": 76,
     "metadata": {},
     "output_type": "execute_result"
    }
   ],
   "source": [
    "from sklearn.preprocessing import StandardScaler\n",
    "\n",
    "scale = StandardScaler()\n",
    "x = pd.DataFrame(scale.fit_transform(x), columns=x.columns)\n",
    "x\n"
   ]
  },
  {
   "cell_type": "markdown",
   "id": "22990a72",
   "metadata": {},
   "source": [
    "## SMOTE"
   ]
  },
  {
   "cell_type": "code",
   "execution_count": 77,
   "id": "335d618f",
   "metadata": {},
   "outputs": [
    {
     "data": {
      "text/plain": [
       "1    398\n",
       "0    179\n",
       "Name: Loan_Status, dtype: int64"
      ]
     },
     "execution_count": 77,
     "metadata": {},
     "output_type": "execute_result"
    }
   ],
   "source": [
    "y.value_counts()"
   ]
  },
  {
   "cell_type": "code",
   "execution_count": 78,
   "id": "e76f0acd",
   "metadata": {},
   "outputs": [],
   "source": [
    "from imblearn.over_sampling import SMOTE\n",
    "sm = SMOTE()\n",
    "x , y = sm.fit_resample(x,y)"
   ]
  },
  {
   "cell_type": "code",
   "execution_count": 79,
   "id": "0fe6140a",
   "metadata": {},
   "outputs": [
    {
     "data": {
      "text/plain": [
       "1    398\n",
       "0    398\n",
       "Name: Loan_Status, dtype: int64"
      ]
     },
     "execution_count": 79,
     "metadata": {},
     "output_type": "execute_result"
    }
   ],
   "source": [
    "y.value_counts()"
   ]
  },
  {
   "cell_type": "code",
   "execution_count": 80,
   "id": "fa34b113",
   "metadata": {},
   "outputs": [
    {
     "data": {
      "text/plain": [
       "<AxesSubplot:xlabel='Loan_Status', ylabel='count'>"
      ]
     },
     "execution_count": 80,
     "metadata": {},
     "output_type": "execute_result"
    },
    {
     "data": {
      "image/png": "[encoded data removed]",
      "text/plain": [
       "<Figure size 432x288 with 1 Axes>"
      ]
     },
     "metadata": {},
     "output_type": "display_data"
    }
   ],
   "source": [
    "# Visualizing the data after oversampling\n",
    "sns.countplot(y)"
   ]
  },
  {
   "cell_type": "markdown",
   "id": "c8f3de11",
   "metadata": {},
   "source": [
    "We have balanced the data using SMOTE."
   ]
  },
  {
   "cell_type": "markdown",
   "id": "a21d0c57",
   "metadata": {},
   "source": [
    "### Best Random State"
   ]
  },
  {
   "cell_type": "code",
   "execution_count": 81,
   "id": "05fa1b0a",
   "metadata": {},
   "outputs": [],
   "source": [
    "from sklearn.linear_model import LogisticRegression\n",
    "from sklearn.metrics import accuracy_score\n",
    "from sklearn.metrics import confusion_matrix,classification_report\n",
    "from sklearn.model_selection import train_test_split"
   ]
  },
  {
   "cell_type": "code",
   "execution_count": 84,
   "id": "07722460",
   "metadata": {},
   "outputs": [
    {
     "name": "stdout",
     "output_type": "stream",
     "text": [
      "Best accuracy is : 0.8068181818181818  on Random State : 4\n"
     ]
    }
   ],
   "source": [
    "maxAccu=0\n",
    "maxRS=0\n",
    "for i in range(200):\n",
    "    x_train,x_test,y_train,y_test=train_test_split(x, y, test_size = 0.22, random_state = i)\n",
    "    lr=LogisticRegression()\n",
    "    lr.fit(x_train,y_train)\n",
    "    predrs=lr.predict(x_test)\n",
    "    acc=accuracy_score(y_test,predrs)\n",
    "    if acc>maxAccu:\n",
    "        maxAccu=acc\n",
    "        maxRS=i\n",
    "print(\"Best accuracy is :\",maxAccu,\" on Random State :\",maxRS)"
   ]
  },
  {
   "cell_type": "code",
   "execution_count": 85,
   "id": "b1d2658a",
   "metadata": {},
   "outputs": [],
   "source": [
    "# dividing the dataset for training and testing with best random state\n",
    "from sklearn.model_selection import train_test_split\n",
    "x_train,x_test,y_train,y_test=train_test_split(x, y, test_size=.22, random_state=maxRS)"
   ]
  },
  {
   "cell_type": "code",
   "execution_count": 86,
   "id": "974ffce2",
   "metadata": {},
   "outputs": [
    {
     "data": {
      "text/plain": [
       "(620, 11)"
      ]
     },
     "execution_count": 86,
     "metadata": {},
     "output_type": "execute_result"
    }
   ],
   "source": [
    "x_train.shape"
   ]
  },
  {
   "cell_type": "code",
   "execution_count": 87,
   "id": "3344fa5c",
   "metadata": {},
   "outputs": [
    {
     "data": {
      "text/plain": [
       "(620,)"
      ]
     },
     "execution_count": 87,
     "metadata": {},
     "output_type": "execute_result"
    }
   ],
   "source": [
    "y_train.shape"
   ]
  },
  {
   "cell_type": "code",
   "execution_count": 88,
   "id": "bf42b041",
   "metadata": {},
   "outputs": [
    {
     "data": {
      "text/plain": [
       "(176, 11)"
      ]
     },
     "execution_count": 88,
     "metadata": {},
     "output_type": "execute_result"
    }
   ],
   "source": [
    "x_test.shape"
   ]
  },
  {
   "cell_type": "code",
   "execution_count": 89,
   "id": "f9a9b605",
   "metadata": {},
   "outputs": [
    {
     "data": {
      "text/plain": [
       "(176,)"
      ]
     },
     "execution_count": 89,
     "metadata": {},
     "output_type": "execute_result"
    }
   ],
   "source": [
    "y_test.shape"
   ]
  },
  {
   "cell_type": "code",
   "execution_count": 90,
   "id": "506c3a1f",
   "metadata": {},
   "outputs": [],
   "source": [
    "# scaling the data using Standard Scaler\n",
    "from sklearn.preprocessing import StandardScaler\n",
    "sc = StandardScaler()\n",
    "x_train = sc.fit_transform(x_train)\n",
    "x_test = sc.fit_transform(x_test)"
   ]
  },
  {
   "cell_type": "markdown",
   "id": "b3ebbaf6",
   "metadata": {},
   "source": [
    "## Logistic Regression"
   ]
  },
  {
   "cell_type": "code",
   "execution_count": 91,
   "id": "ea43d654",
   "metadata": {},
   "outputs": [],
   "source": [
    "from sklearn.linear_model import LogisticRegression\n",
    "from sklearn.metrics import accuracy_score\n",
    "from sklearn.metrics import confusion_matrix,classification_report"
   ]
  },
  {
   "cell_type": "code",
   "execution_count": 92,
   "id": "28188a75",
   "metadata": {},
   "outputs": [
    {
     "name": "stdout",
     "output_type": "stream",
     "text": [
      "accuracy score:  0.7840909090909091\n",
      "[[56 35]\n",
      " [ 3 82]]\n",
      "              precision    recall  f1-score   support\n",
      "\n",
      "           0       0.95      0.62      0.75        91\n",
      "           1       0.70      0.96      0.81        85\n",
      "\n",
      "    accuracy                           0.78       176\n",
      "   macro avg       0.83      0.79      0.78       176\n",
      "weighted avg       0.83      0.78      0.78       176\n",
      "\n"
     ]
    }
   ],
   "source": [
    "lg=LogisticRegression()\n",
    "lg.fit(x_train, y_train)\n",
    "lg.score(x_train, y_train)\n",
    "pred_lg=lg.predict(x_test)\n",
    "\n",
    "print(\"accuracy score: \",accuracy_score(y_test,pred_lg))\n",
    "print(confusion_matrix(y_test,pred_lg))\n",
    "print(classification_report(y_test,pred_lg))"
   ]
  },
  {
   "cell_type": "markdown",
   "id": "d7185de7",
   "metadata": {},
   "source": [
    "## Decision Tree Classifier"
   ]
  },
  {
   "cell_type": "code",
   "execution_count": 93,
   "id": "c281cc0b",
   "metadata": {},
   "outputs": [],
   "source": [
    "from sklearn.tree import DecisionTreeClassifier"
   ]
  },
  {
   "cell_type": "code",
   "execution_count": 94,
   "id": "76c69b92",
   "metadata": {},
   "outputs": [
    {
     "name": "stdout",
     "output_type": "stream",
     "text": [
      "accuracy score:  0.7159090909090909\n",
      "[[75 16]\n",
      " [34 51]]\n",
      "              precision    recall  f1-score   support\n",
      "\n",
      "           0       0.69      0.82      0.75        91\n",
      "           1       0.76      0.60      0.67        85\n",
      "\n",
      "    accuracy                           0.72       176\n",
      "   macro avg       0.72      0.71      0.71       176\n",
      "weighted avg       0.72      0.72      0.71       176\n",
      "\n"
     ]
    }
   ],
   "source": [
    "dtc=DecisionTreeClassifier()\n",
    "dtc.fit(x_train,y_train)\n",
    "dtc.score(x_train,y_train)\n",
    "pred_dtc=dtc.predict(x_test)\n",
    "\n",
    "print(\"accuracy score: \",accuracy_score(y_test,pred_dtc))\n",
    "print(confusion_matrix(y_test,pred_dtc))\n",
    "print(classification_report(y_test,pred_dtc))"
   ]
  },
  {
   "cell_type": "markdown",
   "id": "fcdcff52",
   "metadata": {},
   "source": [
    "## KNearest Neighbors Classifier"
   ]
  },
  {
   "cell_type": "code",
   "execution_count": 95,
   "id": "715e34f7",
   "metadata": {},
   "outputs": [],
   "source": [
    "from sklearn.neighbors import KNeighborsClassifier"
   ]
  },
  {
   "cell_type": "code",
   "execution_count": 96,
   "id": "a0300fd9",
   "metadata": {},
   "outputs": [
    {
     "name": "stdout",
     "output_type": "stream",
     "text": [
      "accuracy score:  0.7784090909090909\n",
      "[[76 15]\n",
      " [24 61]]\n",
      "              precision    recall  f1-score   support\n",
      "\n",
      "           0       0.76      0.84      0.80        91\n",
      "           1       0.80      0.72      0.76        85\n",
      "\n",
      "    accuracy                           0.78       176\n",
      "   macro avg       0.78      0.78      0.78       176\n",
      "weighted avg       0.78      0.78      0.78       176\n",
      "\n"
     ]
    }
   ],
   "source": [
    "knn=KNeighborsClassifier()\n",
    "knn.fit(x_train,y_train)\n",
    "knn.score(x_train,y_train)\n",
    "pred_knn=knn.predict(x_test)\n",
    "\n",
    "print(\"accuracy score: \",accuracy_score(y_test,pred_knn))\n",
    "print(confusion_matrix(y_test,pred_knn))\n",
    "print(classification_report(y_test,pred_knn))"
   ]
  },
  {
   "cell_type": "markdown",
   "id": "0f08f490",
   "metadata": {},
   "source": [
    "## Random Forest Classifier"
   ]
  },
  {
   "cell_type": "code",
   "execution_count": 97,
   "id": "b7131971",
   "metadata": {},
   "outputs": [],
   "source": [
    "from sklearn.ensemble import RandomForestClassifier"
   ]
  },
  {
   "cell_type": "code",
   "execution_count": 98,
   "id": "f073726f",
   "metadata": {},
   "outputs": [
    {
     "name": "stdout",
     "output_type": "stream",
     "text": [
      "accuracy score:  0.8295454545454546\n",
      "[[84  7]\n",
      " [23 62]]\n",
      "              precision    recall  f1-score   support\n",
      "\n",
      "           0       0.79      0.92      0.85        91\n",
      "           1       0.90      0.73      0.81        85\n",
      "\n",
      "    accuracy                           0.83       176\n",
      "   macro avg       0.84      0.83      0.83       176\n",
      "weighted avg       0.84      0.83      0.83       176\n",
      "\n"
     ]
    }
   ],
   "source": [
    "rfc=RandomForestClassifier()\n",
    "rfc.fit(x_train,y_train)\n",
    "rfc.score(x_train,y_train)\n",
    "pred_rfc=rfc.predict(x_test)\n",
    "\n",
    "print(\"accuracy score: \",accuracy_score(y_test,pred_rfc))\n",
    "print(confusion_matrix(y_test,pred_rfc))\n",
    "print(classification_report(y_test,pred_rfc))"
   ]
  },
  {
   "cell_type": "markdown",
   "id": "0c3061f3",
   "metadata": {},
   "source": [
    "## Support Vector Machine"
   ]
  },
  {
   "cell_type": "code",
   "execution_count": 99,
   "id": "87523ee4",
   "metadata": {},
   "outputs": [],
   "source": [
    "from sklearn.svm import SVC"
   ]
  },
  {
   "cell_type": "code",
   "execution_count": 100,
   "id": "389c650e",
   "metadata": {},
   "outputs": [
    {
     "name": "stdout",
     "output_type": "stream",
     "text": [
      "accuracy score:  0.8238636363636364\n",
      "[[69 22]\n",
      " [ 9 76]]\n",
      "              precision    recall  f1-score   support\n",
      "\n",
      "           0       0.88      0.76      0.82        91\n",
      "           1       0.78      0.89      0.83        85\n",
      "\n",
      "    accuracy                           0.82       176\n",
      "   macro avg       0.83      0.83      0.82       176\n",
      "weighted avg       0.83      0.82      0.82       176\n",
      "\n"
     ]
    }
   ],
   "source": [
    "svc = SVC()\n",
    "svc.fit(x_train, y_train)\n",
    "svc.score(x_train, y_train)\n",
    "svc_pred = svc.predict(x_test)\n",
    "print(\"accuracy score: \",accuracy_score(y_test,svc_pred))\n",
    "print(confusion_matrix(y_test,svc_pred))\n",
    "print(classification_report(y_test,svc_pred))"
   ]
  },
  {
   "cell_type": "markdown",
   "id": "ccebbec5",
   "metadata": {},
   "source": [
    "## Gradient Boosting Classifier"
   ]
  },
  {
   "cell_type": "code",
   "execution_count": 101,
   "id": "3f8a22ba",
   "metadata": {},
   "outputs": [],
   "source": [
    "from sklearn.ensemble import GradientBoostingClassifier"
   ]
  },
  {
   "cell_type": "code",
   "execution_count": 102,
   "id": "49a5c589",
   "metadata": {},
   "outputs": [
    {
     "name": "stdout",
     "output_type": "stream",
     "text": [
      "accuracy score:  0.6761363636363636\n",
      "[[73 18]\n",
      " [39 46]]\n",
      "              precision    recall  f1-score   support\n",
      "\n",
      "           0       0.65      0.80      0.72        91\n",
      "           1       0.72      0.54      0.62        85\n",
      "\n",
      "    accuracy                           0.68       176\n",
      "   macro avg       0.69      0.67      0.67       176\n",
      "weighted avg       0.68      0.68      0.67       176\n",
      "\n"
     ]
    }
   ],
   "source": [
    "gbc=GradientBoostingClassifier()\n",
    "gbc.fit(x_train,y_train)\n",
    "gbc.score(x_train,y_train)\n",
    "pred_gcb=gbc.predict(x_test)\n",
    "\n",
    "print(\"accuracy score: \",accuracy_score(y_test,pred_gcb))\n",
    "print(confusion_matrix(y_test,pred_gcb))\n",
    "print(classification_report(y_test,pred_gcb))"
   ]
  },
  {
   "cell_type": "markdown",
   "id": "84931b69",
   "metadata": {},
   "source": [
    "## XGB Classifier"
   ]
  },
  {
   "cell_type": "code",
   "execution_count": 103,
   "id": "987123b9",
   "metadata": {},
   "outputs": [],
   "source": [
    "from xgboost import XGBClassifier"
   ]
  },
  {
   "cell_type": "code",
   "execution_count": 104,
   "id": "98f21be9",
   "metadata": {},
   "outputs": [
    {
     "name": "stdout",
     "output_type": "stream",
     "text": [
      "accuracy score:  0.7272727272727273\n",
      "[[83  8]\n",
      " [40 45]]\n",
      "              precision    recall  f1-score   support\n",
      "\n",
      "           0       0.67      0.91      0.78        91\n",
      "           1       0.85      0.53      0.65        85\n",
      "\n",
      "    accuracy                           0.73       176\n",
      "   macro avg       0.76      0.72      0.71       176\n",
      "weighted avg       0.76      0.73      0.72       176\n",
      "\n"
     ]
    }
   ],
   "source": [
    "xgb=XGBClassifier()\n",
    "xgb.fit(x_train,y_train)\n",
    "xgb.score(x_train,y_train)\n",
    "pred_xgb=xgb.predict(x_test)\n",
    "\n",
    "print(\"accuracy score: \",accuracy_score(y_test,pred_xgb))\n",
    "print(confusion_matrix(y_test,pred_xgb))\n",
    "print(classification_report(y_test,pred_xgb))"
   ]
  },
  {
   "cell_type": "markdown",
   "id": "5da40508",
   "metadata": {},
   "source": [
    "From the above models, the highest accuracy score was achieved by Random Forest Classifier,followed by SVC and Linear Regression."
   ]
  },
  {
   "cell_type": "markdown",
   "id": "109a396a",
   "metadata": {},
   "source": [
    "## Cross Validation Score"
   ]
  },
  {
   "cell_type": "code",
   "execution_count": 105,
   "id": "7fe8bc61",
   "metadata": {},
   "outputs": [],
   "source": [
    "from sklearn.model_selection import cross_val_score"
   ]
  },
  {
   "cell_type": "code",
   "execution_count": 111,
   "id": "716b43d9",
   "metadata": {},
   "outputs": [
    {
     "name": "stdout",
     "output_type": "stream",
     "text": [
      "Cross validation score of this model is:  0.7224056603773585\n"
     ]
    }
   ],
   "source": [
    "scr_lg=cross_val_score(lg,x,y,cv=5)\n",
    "print(\"Cross validation score of this model is: \",scr_lg.mean())"
   ]
  },
  {
   "cell_type": "code",
   "execution_count": 110,
   "id": "d30c1165",
   "metadata": {},
   "outputs": [
    {
     "name": "stdout",
     "output_type": "stream",
     "text": [
      "Cross validation score of this model is:  0.7902672955974843\n"
     ]
    }
   ],
   "source": [
    "scr_dtc=cross_val_score(dtc,x,y,cv=5)\n",
    "print(\"Cross validation score of this model is: \",scr_dtc.mean())"
   ]
  },
  {
   "cell_type": "code",
   "execution_count": 114,
   "id": "1f5ac78c",
   "metadata": {},
   "outputs": [
    {
     "name": "stdout",
     "output_type": "stream",
     "text": [
      "Cross validation score of this model is:  0.7399921383647798\n"
     ]
    }
   ],
   "source": [
    "scr_knn=cross_val_score(knn,x,y,cv=5)\n",
    "print(\"Cross validation score of this model is: \",scr_knn.mean())"
   ]
  },
  {
   "cell_type": "code",
   "execution_count": 116,
   "id": "63cceccc",
   "metadata": {},
   "outputs": [
    {
     "name": "stdout",
     "output_type": "stream",
     "text": [
      "Cross validation score of this model is:  0.8317767295597485\n"
     ]
    }
   ],
   "source": [
    "scr_rfc=cross_val_score(rfc,x,y,cv=5)\n",
    "print(\"Cross validation score of this model is: \",scr_rfc.mean())"
   ]
  },
  {
   "cell_type": "code",
   "execution_count": 117,
   "id": "7ec6b4bb",
   "metadata": {},
   "outputs": [
    {
     "name": "stdout",
     "output_type": "stream",
     "text": [
      "Cross validation score of this model is:  0.7475314465408806\n"
     ]
    }
   ],
   "source": [
    "scr_svc=cross_val_score(svc,x,y,cv=5)\n",
    "print(\"Cross validation score of this model is: \",scr_svc.mean())"
   ]
  },
  {
   "cell_type": "code",
   "execution_count": 118,
   "id": "750fb27b",
   "metadata": {},
   "outputs": [
    {
     "name": "stdout",
     "output_type": "stream",
     "text": [
      "Cross validation score of this model is:  0.7903223270440252\n"
     ]
    }
   ],
   "source": [
    "scr_gbc=cross_val_score(gbc,x,y,cv=5)\n",
    "print(\"Cross validation score of this model is: \",scr_gbc.mean())"
   ]
  },
  {
   "cell_type": "code",
   "execution_count": 119,
   "id": "a29ff373",
   "metadata": {},
   "outputs": [
    {
     "name": "stdout",
     "output_type": "stream",
     "text": [
      "Cross validation score of this model is:  0.7991037735849057\n"
     ]
    }
   ],
   "source": [
    "scr_xgb=cross_val_score(xgb,x,y,cv=5)\n",
    "print(\"Cross validation score of this model is: \",scr_xgb.mean())"
   ]
  },
  {
   "cell_type": "markdown",
   "id": "c148428c",
   "metadata": {},
   "source": [
    "Among the cross validation scores the highest score belongs to Random Forest Classifier, followed by XGB Classifier & Gradient Boosting Classifier."
   ]
  },
  {
   "cell_type": "markdown",
   "id": "138a51d7",
   "metadata": {},
   "source": [
    "## Hyper Parameter Tuning"
   ]
  },
  {
   "cell_type": "markdown",
   "id": "57f7a169",
   "metadata": {},
   "source": [
    "Since the accuracy Score and the cross validation score of Random Forest Classifier model are the high, we shall consider this model for hyper parameter tuning.\n",
    "\n",
    "We shall use GridSearchCV for Hyper Parameter Tuning."
   ]
  },
  {
   "cell_type": "code",
   "execution_count": 120,
   "id": "5105aa3f",
   "metadata": {},
   "outputs": [],
   "source": [
    "from sklearn.model_selection import GridSearchCV"
   ]
  },
  {
   "cell_type": "code",
   "execution_count": 121,
   "id": "93e20220",
   "metadata": {},
   "outputs": [],
   "source": [
    "parameters={\n",
    "    'max_depth': [2,3,4],\n",
    "    'max_features': ['auto', 'sqrt'],\n",
    "    'max_samples':[0,0.1,0.001,1],\n",
    "    'criterion':['gini','entropy'],\n",
    "    'n_estimators': [100,200,300,500]}\n",
    "grid_rfc = GridSearchCV(rfc, param_grid = parameters, scoring = 'accuracy', cv = 7)"
   ]
  },
  {
   "cell_type": "code",
   "execution_count": 122,
   "id": "894b28ef",
   "metadata": {},
   "outputs": [
    {
     "data": {
      "text/html": [
       "<style>#sk-container-id-1 {color: black;background-color: white;}#sk-container-id-1 pre{padding: 0;}#sk-container-id-1 div.sk-toggleable {background-color: white;}#sk-container-id-1 label.sk-toggleable__label {cursor: pointer;display: block;width: 100%;margin-bottom: 0;padding: 0.3em;box-sizing: border-box;text-align: center;}#sk-container-id-1 label.sk-toggleable__label-arrow:before {content: \"▸\";float: left;margin-right: 0.25em;color: #696969;}#sk-container-id-1 label.sk-toggleable__label-arrow:hover:before {color: black;}#sk-container-id-1 div.sk-estimator:hover label.sk-toggleable__label-arrow:before {color: black;}#sk-container-id-1 div.sk-toggleable__content {max-height: 0;max-width: 0;overflow: hidden;text-align: left;background-color: #f0f8ff;}#sk-container-id-1 div.sk-toggleable__content pre {margin: 0.2em;color: black;border-radius: 0.25em;background-color: #f0f8ff;}#sk-container-id-1 input.sk-toggleable__control:checked~div.sk-toggleable__content {max-height: 200px;max-width: 100%;overflow: auto;}#sk-container-id-1 input.sk-toggleable__control:checked~label.sk-toggleable__label-arrow:before {content: \"▾\";}#sk-container-id-1 div.sk-estimator input.sk-toggleable__control:checked~label.sk-toggleable__label {background-color: #d4ebff;}#sk-container-id-1 div.sk-label input.sk-toggleable__control:checked~label.sk-toggleable__label {background-color: #d4ebff;}#sk-container-id-1 input.sk-hidden--visually {border: 0;clip: rect(1px 1px 1px 1px);clip: rect(1px, 1px, 1px, 1px);height: 1px;margin: -1px;overflow: hidden;padding: 0;position: absolute;width: 1px;}#sk-container-id-1 div.sk-estimator {font-family: monospace;background-color: #f0f8ff;border: 1px dotted black;border-radius: 0.25em;box-sizing: border-box;margin-bottom: 0.5em;}#sk-container-id-1 div.sk-estimator:hover {background-color: #d4ebff;}#sk-container-id-1 div.sk-parallel-item::after {content: \"\";width: 100%;border-bottom: 1px solid gray;flex-grow: 1;}#sk-container-id-1 div.sk-label:hover label.sk-toggleable__label {background-color: #d4ebff;}#sk-container-id-1 div.sk-serial::before {content: \"\";position: absolute;border-left: 1px solid gray;box-sizing: border-box;top: 0;bottom: 0;left: 50%;z-index: 0;}#sk-container-id-1 div.sk-serial {display: flex;flex-direction: column;align-items: center;background-color: white;padding-right: 0.2em;padding-left: 0.2em;position: relative;}#sk-container-id-1 div.sk-item {position: relative;z-index: 1;}#sk-container-id-1 div.sk-parallel {display: flex;align-items: stretch;justify-content: center;background-color: white;position: relative;}#sk-container-id-1 div.sk-item::before, #sk-container-id-1 div.sk-parallel-item::before {content: \"\";position: absolute;border-left: 1px solid gray;box-sizing: border-box;top: 0;bottom: 0;left: 50%;z-index: -1;}#sk-container-id-1 div.sk-parallel-item {display: flex;flex-direction: column;z-index: 1;position: relative;background-color: white;}#sk-container-id-1 div.sk-parallel-item:first-child::after {align-self: flex-end;width: 50%;}#sk-container-id-1 div.sk-parallel-item:last-child::after {align-self: flex-start;width: 50%;}#sk-container-id-1 div.sk-parallel-item:only-child::after {width: 0;}#sk-container-id-1 div.sk-dashed-wrapped {border: 1px dashed gray;margin: 0 0.4em 0.5em 0.4em;box-sizing: border-box;padding-bottom: 0.4em;background-color: white;}#sk-container-id-1 div.sk-label label {font-family: monospace;font-weight: bold;display: inline-block;line-height: 1.2em;}#sk-container-id-1 div.sk-label-container {text-align: center;}#sk-container-id-1 div.sk-container {/* jupyter's `normalize.less` sets `[hidden] { display: none; }` but bootstrap.min.css set `[hidden] { display: none !important; }` so we also need the `!important` here to be able to override the default hidden behavior on the sphinx rendered scikit-learn.org. See: https://github.com/scikit-learn/scikit-learn/issues/21755 */display: inline-block !important;position: relative;}#sk-container-id-1 div.sk-text-repr-fallback {display: none;}</style><div id=\"sk-container-id-1\" class=\"sk-top-container\"><div class=\"sk-text-repr-fallback\"><pre>GridSearchCV(cv=7, estimator=RandomForestClassifier(),\n",
       "             param_grid={&#x27;criterion&#x27;: [&#x27;gini&#x27;, &#x27;entropy&#x27;],\n",
       "                         &#x27;max_depth&#x27;: [2, 3, 4],\n",
       "                         &#x27;max_features&#x27;: [&#x27;auto&#x27;, &#x27;sqrt&#x27;],\n",
       "                         &#x27;max_samples&#x27;: [0, 0.1, 0.001, 1],\n",
       "                         &#x27;n_estimators&#x27;: [100, 200, 300, 500]},\n",
       "             scoring=&#x27;accuracy&#x27;)</pre><b>In a Jupyter environment, please rerun this cell to show the HTML representation or trust the notebook. <br />On GitHub, the HTML representation is unable to render, please try loading this page with nbviewer.org.</b></div><div class=\"sk-container\" hidden><div class=\"sk-item sk-dashed-wrapped\"><div class=\"sk-label-container\"><div class=\"sk-label sk-toggleable\"><input class=\"sk-toggleable__control sk-hidden--visually\" id=\"sk-estimator-id-1\" type=\"checkbox\" ><label for=\"sk-estimator-id-1\" class=\"sk-toggleable__label sk-toggleable__label-arrow\">GridSearchCV</label><div class=\"sk-toggleable__content\"><pre>GridSearchCV(cv=7, estimator=RandomForestClassifier(),\n",
       "             param_grid={&#x27;criterion&#x27;: [&#x27;gini&#x27;, &#x27;entropy&#x27;],\n",
       "                         &#x27;max_depth&#x27;: [2, 3, 4],\n",
       "                         &#x27;max_features&#x27;: [&#x27;auto&#x27;, &#x27;sqrt&#x27;],\n",
       "                         &#x27;max_samples&#x27;: [0, 0.1, 0.001, 1],\n",
       "                         &#x27;n_estimators&#x27;: [100, 200, 300, 500]},\n",
       "             scoring=&#x27;accuracy&#x27;)</pre></div></div></div><div class=\"sk-parallel\"><div class=\"sk-parallel-item\"><div class=\"sk-item\"><div class=\"sk-label-container\"><div class=\"sk-label sk-toggleable\"><input class=\"sk-toggleable__control sk-hidden--visually\" id=\"sk-estimator-id-2\" type=\"checkbox\" ><label for=\"sk-estimator-id-2\" class=\"sk-toggleable__label sk-toggleable__label-arrow\">estimator: RandomForestClassifier</label><div class=\"sk-toggleable__content\"><pre>RandomForestClassifier()</pre></div></div></div><div class=\"sk-serial\"><div class=\"sk-item\"><div class=\"sk-estimator sk-toggleable\"><input class=\"sk-toggleable__control sk-hidden--visually\" id=\"sk-estimator-id-3\" type=\"checkbox\" ><label for=\"sk-estimator-id-3\" class=\"sk-toggleable__label sk-toggleable__label-arrow\">RandomForestClassifier</label><div class=\"sk-toggleable__content\"><pre>RandomForestClassifier()</pre></div></div></div></div></div></div></div></div></div></div>"
      ],
      "text/plain": [
       "GridSearchCV(cv=7, estimator=RandomForestClassifier(),\n",
       "             param_grid={'criterion': ['gini', 'entropy'],\n",
       "                         'max_depth': [2, 3, 4],\n",
       "                         'max_features': ['auto', 'sqrt'],\n",
       "                         'max_samples': [0, 0.1, 0.001, 1],\n",
       "                         'n_estimators': [100, 200, 300, 500]},\n",
       "             scoring='accuracy')"
      ]
     },
     "execution_count": 122,
     "metadata": {},
     "output_type": "execute_result"
    }
   ],
   "source": [
    "grid_rfc.fit(x_train, y_train)"
   ]
  },
  {
   "cell_type": "code",
   "execution_count": 123,
   "id": "fb8f2ec6",
   "metadata": {},
   "outputs": [
    {
     "data": {
      "text/plain": [
       "{'criterion': 'gini',\n",
       " 'max_depth': 4,\n",
       " 'max_features': 'sqrt',\n",
       " 'max_samples': 0.1,\n",
       " 'n_estimators': 300}"
      ]
     },
     "execution_count": 123,
     "metadata": {},
     "output_type": "execute_result"
    }
   ],
   "source": [
    "grid_rfc.best_params_"
   ]
  },
  {
   "cell_type": "code",
   "execution_count": 151,
   "id": "73f7f493",
   "metadata": {},
   "outputs": [
    {
     "name": "stdout",
     "output_type": "stream",
     "text": [
      "accuracy score:  0.8011363636363636\n",
      "[[62 29]\n",
      " [ 6 79]]\n",
      "              precision    recall  f1-score   support\n",
      "\n",
      "           0       0.91      0.68      0.78        91\n",
      "           1       0.73      0.93      0.82        85\n",
      "\n",
      "    accuracy                           0.80       176\n",
      "   macro avg       0.82      0.81      0.80       176\n",
      "weighted avg       0.82      0.80      0.80       176\n",
      "\n"
     ]
    }
   ],
   "source": [
    "rfc1=RandomForestClassifier(n_estimators=300, criterion='gini',max_depth=4, max_features='sqrt',max_samples=0.1)\n",
    "\n",
    "rfc1.fit(x_train,y_train)\n",
    "pred_rf1=rfc1.predict(x_test)\n",
    "print(\"accuracy score: \",accuracy_score(y_test,pred_rf1))\n",
    "print(confusion_matrix(y_test,pred_rf1))\n",
    "print(classification_report(y_test,pred_rf1))"
   ]
  },
  {
   "cell_type": "code",
   "execution_count": 149,
   "id": "417bbd90",
   "metadata": {},
   "outputs": [
    {
     "data": {
      "image/png": "[encoded data removed]",
      "text/plain": [
       "<Figure size 360x360 with 2 Axes>"
      ]
     },
     "metadata": {},
     "output_type": "display_data"
    }
   ],
   "source": [
    "cm = confusion_matrix(y_test, pred_rf1)\n",
    "\n",
    "x_axis_labels = [\"Y\",\"N\"]\n",
    "y_axis_labels = [\"Y\",\"N\"]\n",
    "\n",
    "f, ax = plt.subplots(figsize =(5,5))\n",
    "sns.heatmap(cm, annot = True, linewidths=0.2, linecolor=\"black\", fmt = \".0f\", ax=ax, xticklabels=x_axis_labels, yticklabels=y_axis_labels)\n",
    "plt.xlabel(\"Predicted Value\")\n",
    "plt.ylabel(\"True Value \")\n",
    "plt.title('Confusion Matrix for RFC')\n",
    "plt.show()"
   ]
  },
  {
   "cell_type": "markdown",
   "id": "65b37524",
   "metadata": {},
   "source": [
    "## ROC-AUC Curve"
   ]
  },
  {
   "cell_type": "code",
   "execution_count": 150,
   "id": "12b4751d",
   "metadata": {},
   "outputs": [
    {
     "data": {
      "image/png": "[encoded data removed]",
      "text/plain": [
       "<Figure size 432x288 with 1 Axes>"
      ]
     },
     "metadata": {},
     "output_type": "display_data"
    }
   ],
   "source": [
    "from sklearn.metrics import plot_roc_curve\n",
    "plot_roc_curve(rfc1,x_test,y_test)\n",
    "plt.title(\"ROC AUC Plot\")\n",
    "plt.show()"
   ]
  },
  {
   "cell_type": "markdown",
   "id": "655857d0",
   "metadata": {},
   "source": [
    "From the ROC-AUC plot we get the AUC score to be 87 %."
   ]
  },
  {
   "cell_type": "markdown",
   "id": "c8ad8bb2",
   "metadata": {},
   "source": [
    "## Saving the Model"
   ]
  },
  {
   "cell_type": "code",
   "execution_count": 152,
   "id": "adf38950",
   "metadata": {},
   "outputs": [
    {
     "data": {
      "text/plain": [
       "['Loan_Appln_Status_Predn.pkl']"
      ]
     },
     "execution_count": 152,
     "metadata": {},
     "output_type": "execute_result"
    }
   ],
   "source": [
    "import joblib\n",
    "joblib.dump(rfc1,\"Loan_Appln_Status_Predn.pkl\")"
   ]
  },
  {
   "cell_type": "markdown",
   "id": "70e51523",
   "metadata": {},
   "source": [
    "## Prediction"
   ]
  },
  {
   "cell_type": "code",
   "execution_count": 154,
   "id": "7827bd21",
   "metadata": {},
   "outputs": [
    {
     "data": {
      "text/plain": [
       "array([1, 0, 1, 1, 1, 1, 0, 1, 1, 1, 0, 0, 0, 0, 1, 1, 0, 1, 0, 1, 1, 1,\n",
       "       1, 1, 1, 0, 1, 0, 1, 0, 1, 0, 0, 0, 0, 1, 1, 1, 1, 1, 1, 1, 0, 0,\n",
       "       0, 1, 1, 0, 1, 1, 0, 1, 0, 0, 1, 1, 0, 1, 1, 1, 1, 0, 0, 1, 0, 1,\n",
       "       1, 1, 1, 1, 1, 1, 1, 0, 1, 0, 1, 0, 0, 0, 0, 0, 1, 1, 0, 0, 0, 0,\n",
       "       0, 0, 0, 1, 1, 1, 1, 1, 0, 1, 1, 1, 1, 1, 1, 0, 0, 1, 1, 1, 1, 0,\n",
       "       0, 1, 1, 1, 0, 0, 0, 1, 1, 1, 1, 1, 0, 0, 1, 1, 1, 1, 1, 1, 0, 1,\n",
       "       1, 1, 1, 1, 0, 0, 1, 1, 1, 0, 1, 1, 1, 1, 1, 0, 1, 0, 0, 0, 0, 1,\n",
       "       0, 1, 0, 0, 0, 1, 1, 0, 0, 1, 0, 1, 0, 1, 1, 1, 1, 0, 1, 1, 1, 1])"
      ]
     },
     "execution_count": 154,
     "metadata": {},
     "output_type": "execute_result"
    }
   ],
   "source": [
    "# Loading the saved model\n",
    "model=joblib.load(\"Loan_Appln_Status_Predn.pkl\")\n",
    "\n",
    "# Prediction\n",
    "prediction = model.predict(x_test)\n",
    "prediction"
   ]
  },
  {
   "cell_type": "code",
   "execution_count": 155,
   "id": "b7952219",
   "metadata": {},
   "outputs": [
    {
     "data": {
      "text/html": [
       "<div>\n",
       "<style scoped>\n",
       "    .dataframe tbody tr th:only-of-type {\n",
       "        vertical-align: middle;\n",
       "    }\n",
       "\n",
       "    .dataframe tbody tr th {\n",
       "        vertical-align: top;\n",
       "    }\n",
       "\n",
       "    .dataframe thead th {\n",
       "        text-align: right;\n",
       "    }\n",
       "</style>\n",
       "<table border=\"1\" class=\"dataframe\">\n",
       "  <thead>\n",
       "    <tr style=\"text-align: right;\">\n",
       "      <th></th>\n",
       "      <th>0</th>\n",
       "      <th>1</th>\n",
       "      <th>2</th>\n",
       "      <th>3</th>\n",
       "      <th>4</th>\n",
       "      <th>5</th>\n",
       "      <th>6</th>\n",
       "      <th>7</th>\n",
       "      <th>8</th>\n",
       "      <th>9</th>\n",
       "      <th>...</th>\n",
       "      <th>166</th>\n",
       "      <th>167</th>\n",
       "      <th>168</th>\n",
       "      <th>169</th>\n",
       "      <th>170</th>\n",
       "      <th>171</th>\n",
       "      <th>172</th>\n",
       "      <th>173</th>\n",
       "      <th>174</th>\n",
       "      <th>175</th>\n",
       "    </tr>\n",
       "  </thead>\n",
       "  <tbody>\n",
       "    <tr>\n",
       "      <th>Predicted Value</th>\n",
       "      <td>1</td>\n",
       "      <td>0</td>\n",
       "      <td>1</td>\n",
       "      <td>1</td>\n",
       "      <td>1</td>\n",
       "      <td>1</td>\n",
       "      <td>0</td>\n",
       "      <td>1</td>\n",
       "      <td>1</td>\n",
       "      <td>1</td>\n",
       "      <td>...</td>\n",
       "      <td>0</td>\n",
       "      <td>1</td>\n",
       "      <td>1</td>\n",
       "      <td>1</td>\n",
       "      <td>1</td>\n",
       "      <td>0</td>\n",
       "      <td>1</td>\n",
       "      <td>1</td>\n",
       "      <td>1</td>\n",
       "      <td>1</td>\n",
       "    </tr>\n",
       "    <tr>\n",
       "      <th>Actual Value</th>\n",
       "      <td>1</td>\n",
       "      <td>0</td>\n",
       "      <td>1</td>\n",
       "      <td>1</td>\n",
       "      <td>0</td>\n",
       "      <td>1</td>\n",
       "      <td>0</td>\n",
       "      <td>1</td>\n",
       "      <td>1</td>\n",
       "      <td>1</td>\n",
       "      <td>...</td>\n",
       "      <td>0</td>\n",
       "      <td>0</td>\n",
       "      <td>0</td>\n",
       "      <td>1</td>\n",
       "      <td>1</td>\n",
       "      <td>0</td>\n",
       "      <td>1</td>\n",
       "      <td>1</td>\n",
       "      <td>1</td>\n",
       "      <td>0</td>\n",
       "    </tr>\n",
       "  </tbody>\n",
       "</table>\n",
       "<p>2 rows × 176 columns</p>\n",
       "</div>"
      ],
      "text/plain": [
       "                 0    1    2    3    4    5    6    7    8    9    ...  166  \\\n",
       "Predicted Value    1    0    1    1    1    1    0    1    1    1  ...    0   \n",
       "Actual Value       1    0    1    1    0    1    0    1    1    1  ...    0   \n",
       "\n",
       "                 167  168  169  170  171  172  173  174  175  \n",
       "Predicted Value    1    1    1    1    0    1    1    1    1  \n",
       "Actual Value       0    0    1    1    0    1    1    1    0  \n",
       "\n",
       "[2 rows x 176 columns]"
      ]
     },
     "execution_count": 155,
     "metadata": {},
     "output_type": "execute_result"
    }
   ],
   "source": [
    "pd.DataFrame([model.predict(x_test)[:],y_test[:]],index=[\"Predicted Value\",\"Actual Value\"])"
   ]
  },
  {
   "cell_type": "markdown",
   "id": "5d674b69",
   "metadata": {},
   "source": [
    "#### Completed."
   ]
  },
  {
   "cell_type": "code",
   "execution_count": null,
   "id": "11f160a2",
   "metadata": {},
   "outputs": [],
   "source": []
  }
 ],
 "metadata": {
  "kernelspec": {
   "display_name": "Python 3 (ipykernel)",
   "language": "python",
   "name": "python3"
  },
  "language_info": {
   "codemirror_mode": {
    "name": "ipython",
    "version": 3
   },
   "file_extension": ".py",
   "mimetype": "text/x-python",
   "name": "python",
   "nbconvert_exporter": "python",
   "pygments_lexer": "ipython3",
   "version": "3.9.12"
  }
 },
 "nbformat": 4,
 "nbformat_minor": 5
}
